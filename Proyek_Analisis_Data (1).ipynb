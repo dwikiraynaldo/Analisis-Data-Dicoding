{
  "cells": [
    {
      "cell_type": "markdown",
      "metadata": {
        "id": "H9wADwK78DCz"
      },
      "source": [
        "# Proyek Analisis Data: Bike Sharing Dataset\n",
        "- **Nama:** Dwiki Raynaldo. E\n",
        "- **Email:** dwikiraynaldo27@gmail.com\n",
        "- **ID Dicoding:** dwiki27"
      ]
    },
    {
      "cell_type": "markdown",
      "source": [],
      "metadata": {
        "id": "dYY7q7Ri5-_l"
      }
    },
    {
      "cell_type": "markdown",
      "metadata": {
        "id": "eE0raob58DC0"
      },
      "source": [
        "## Menentukan Pertanyaan Bisnis"
      ]
    },
    {
      "cell_type": "markdown",
      "metadata": {
        "id": "GmQeQ5YF8DC0"
      },
      "source": [
        "1. Bagaimana pola penggunaan sepeda pada hari kerja dibandingkan akhir pekan atau hari libur?\n",
        "\n",
        "2. Apakah terdapat perbedaan signifikan dalam jumlah penyewaan sepeda antara pengguna kasual dan terdaftar?\n",
        "\n",
        "3. Bagaimana peristiwa atau anomali cuaca ekstrem mempengaruhi jumlah penyewaan sepeda?\n",
        "\n",
        "4. Apakah ada tren musiman yang konsisten dalam penggunaan sepeda sepanjang tahun?\n",
        "\n",
        "5. Bagaimana pengaruh suhu udara, kecepatan angin dan kelembaban terhadap keputusan pengguna untuk menyewa sepeda?"
      ]
    },
    {
      "cell_type": "markdown",
      "metadata": {
        "id": "H-z4QGlO8DC1"
      },
      "source": [
        "## Import Semua Packages/Library yang Digunakan"
      ]
    },
    {
      "cell_type": "code",
      "execution_count": 5,
      "metadata": {
        "id": "FVYwaObI8DC1"
      },
      "outputs": [],
      "source": [
        "import numpy as np\n",
        "import pandas as pd\n",
        "import matplotlib.pyplot as plt\n",
        "import seaborn as sns\n",
        "from datetime import datetime"
      ]
    },
    {
      "cell_type": "markdown",
      "metadata": {
        "id": "h_Sh51Xy8DC1"
      },
      "source": [
        "## Data Wrangling      "
      ]
    },
    {
      "cell_type": "markdown",
      "source": [
        "Data wrangling merupakan sebuah proses atau kumpulan kegiatan yang meliputi pengumpulan data (Gathering data), penilaian data (Assessing data), serta pembersihan data (Cleaning data) sebelum data digunakan dalam proses analisis data."
      ],
      "metadata": {
        "id": "YHlUYZx9Wv5h"
      }
    },
    {
      "cell_type": "markdown",
      "metadata": {
        "id": "sXU2GBYu8DC1"
      },
      "source": [
        "### Gathering Data"
      ]
    },
    {
      "cell_type": "markdown",
      "source": [
        "Tahap data wrangling, dimulai dengan proses pengumpulan data. Pada proses ini kita akan mengumpulkan semua data yang dibutuhkan untuk menjawab semua pertanyaan atau masalah bisnis yang ingin kita hadapi."
      ],
      "metadata": {
        "id": "YXE6ZL2jW2-5"
      }
    },
    {
      "cell_type": "code",
      "source": [
        "# Import data day.csv and hour.csv\n",
        "day_df = pd.read_csv(\"data/day.csv\")\n",
        "day_df.head()"
      ],
      "metadata": {
        "colab": {
          "base_uri": "https://localhost:8080/",
          "height": 339
        },
        "id": "fRnLe-lOXfJ5",
        "outputId": "2bd68f47-50f3-4c91-ef45-d9f68e55ff1e"
      },
      "execution_count": 6,
      "outputs": [
        {
          "output_type": "error",
          "ename": "FileNotFoundError",
          "evalue": "[Errno 2] No such file or directory: 'data/day.csv'",
          "traceback": [
            "\u001b[0;31m---------------------------------------------------------------------------\u001b[0m",
            "\u001b[0;31mFileNotFoundError\u001b[0m                         Traceback (most recent call last)",
            "\u001b[0;32m<ipython-input-6-03c519d6999e>\u001b[0m in \u001b[0;36m<cell line: 2>\u001b[0;34m()\u001b[0m\n\u001b[1;32m      1\u001b[0m \u001b[0;31m# Import data day.csv and hour.csv\u001b[0m\u001b[0;34m\u001b[0m\u001b[0;34m\u001b[0m\u001b[0m\n\u001b[0;32m----> 2\u001b[0;31m \u001b[0mday_df\u001b[0m \u001b[0;34m=\u001b[0m \u001b[0mpd\u001b[0m\u001b[0;34m.\u001b[0m\u001b[0mread_csv\u001b[0m\u001b[0;34m(\u001b[0m\u001b[0;34m\"data/day.csv\"\u001b[0m\u001b[0;34m)\u001b[0m\u001b[0;34m\u001b[0m\u001b[0;34m\u001b[0m\u001b[0m\n\u001b[0m\u001b[1;32m      3\u001b[0m \u001b[0mday_df\u001b[0m\u001b[0;34m.\u001b[0m\u001b[0mhead\u001b[0m\u001b[0;34m(\u001b[0m\u001b[0;34m)\u001b[0m\u001b[0;34m\u001b[0m\u001b[0;34m\u001b[0m\u001b[0m\n",
            "\u001b[0;32m/usr/local/lib/python3.10/dist-packages/pandas/io/parsers/readers.py\u001b[0m in \u001b[0;36mread_csv\u001b[0;34m(filepath_or_buffer, sep, delimiter, header, names, index_col, usecols, dtype, engine, converters, true_values, false_values, skipinitialspace, skiprows, skipfooter, nrows, na_values, keep_default_na, na_filter, verbose, skip_blank_lines, parse_dates, infer_datetime_format, keep_date_col, date_parser, date_format, dayfirst, cache_dates, iterator, chunksize, compression, thousands, decimal, lineterminator, quotechar, quoting, doublequote, escapechar, comment, encoding, encoding_errors, dialect, on_bad_lines, delim_whitespace, low_memory, memory_map, float_precision, storage_options, dtype_backend)\u001b[0m\n\u001b[1;32m   1024\u001b[0m     \u001b[0mkwds\u001b[0m\u001b[0;34m.\u001b[0m\u001b[0mupdate\u001b[0m\u001b[0;34m(\u001b[0m\u001b[0mkwds_defaults\u001b[0m\u001b[0;34m)\u001b[0m\u001b[0;34m\u001b[0m\u001b[0;34m\u001b[0m\u001b[0m\n\u001b[1;32m   1025\u001b[0m \u001b[0;34m\u001b[0m\u001b[0m\n\u001b[0;32m-> 1026\u001b[0;31m     \u001b[0;32mreturn\u001b[0m \u001b[0m_read\u001b[0m\u001b[0;34m(\u001b[0m\u001b[0mfilepath_or_buffer\u001b[0m\u001b[0;34m,\u001b[0m \u001b[0mkwds\u001b[0m\u001b[0;34m)\u001b[0m\u001b[0;34m\u001b[0m\u001b[0;34m\u001b[0m\u001b[0m\n\u001b[0m\u001b[1;32m   1027\u001b[0m \u001b[0;34m\u001b[0m\u001b[0m\n\u001b[1;32m   1028\u001b[0m \u001b[0;34m\u001b[0m\u001b[0m\n",
            "\u001b[0;32m/usr/local/lib/python3.10/dist-packages/pandas/io/parsers/readers.py\u001b[0m in \u001b[0;36m_read\u001b[0;34m(filepath_or_buffer, kwds)\u001b[0m\n\u001b[1;32m    618\u001b[0m \u001b[0;34m\u001b[0m\u001b[0m\n\u001b[1;32m    619\u001b[0m     \u001b[0;31m# Create the parser.\u001b[0m\u001b[0;34m\u001b[0m\u001b[0;34m\u001b[0m\u001b[0m\n\u001b[0;32m--> 620\u001b[0;31m     \u001b[0mparser\u001b[0m \u001b[0;34m=\u001b[0m \u001b[0mTextFileReader\u001b[0m\u001b[0;34m(\u001b[0m\u001b[0mfilepath_or_buffer\u001b[0m\u001b[0;34m,\u001b[0m \u001b[0;34m**\u001b[0m\u001b[0mkwds\u001b[0m\u001b[0;34m)\u001b[0m\u001b[0;34m\u001b[0m\u001b[0;34m\u001b[0m\u001b[0m\n\u001b[0m\u001b[1;32m    621\u001b[0m \u001b[0;34m\u001b[0m\u001b[0m\n\u001b[1;32m    622\u001b[0m     \u001b[0;32mif\u001b[0m \u001b[0mchunksize\u001b[0m \u001b[0;32mor\u001b[0m \u001b[0miterator\u001b[0m\u001b[0;34m:\u001b[0m\u001b[0;34m\u001b[0m\u001b[0;34m\u001b[0m\u001b[0m\n",
            "\u001b[0;32m/usr/local/lib/python3.10/dist-packages/pandas/io/parsers/readers.py\u001b[0m in \u001b[0;36m__init__\u001b[0;34m(self, f, engine, **kwds)\u001b[0m\n\u001b[1;32m   1618\u001b[0m \u001b[0;34m\u001b[0m\u001b[0m\n\u001b[1;32m   1619\u001b[0m         \u001b[0mself\u001b[0m\u001b[0;34m.\u001b[0m\u001b[0mhandles\u001b[0m\u001b[0;34m:\u001b[0m \u001b[0mIOHandles\u001b[0m \u001b[0;34m|\u001b[0m \u001b[0;32mNone\u001b[0m \u001b[0;34m=\u001b[0m \u001b[0;32mNone\u001b[0m\u001b[0;34m\u001b[0m\u001b[0;34m\u001b[0m\u001b[0m\n\u001b[0;32m-> 1620\u001b[0;31m         \u001b[0mself\u001b[0m\u001b[0;34m.\u001b[0m\u001b[0m_engine\u001b[0m \u001b[0;34m=\u001b[0m \u001b[0mself\u001b[0m\u001b[0;34m.\u001b[0m\u001b[0m_make_engine\u001b[0m\u001b[0;34m(\u001b[0m\u001b[0mf\u001b[0m\u001b[0;34m,\u001b[0m \u001b[0mself\u001b[0m\u001b[0;34m.\u001b[0m\u001b[0mengine\u001b[0m\u001b[0;34m)\u001b[0m\u001b[0;34m\u001b[0m\u001b[0;34m\u001b[0m\u001b[0m\n\u001b[0m\u001b[1;32m   1621\u001b[0m \u001b[0;34m\u001b[0m\u001b[0m\n\u001b[1;32m   1622\u001b[0m     \u001b[0;32mdef\u001b[0m \u001b[0mclose\u001b[0m\u001b[0;34m(\u001b[0m\u001b[0mself\u001b[0m\u001b[0;34m)\u001b[0m \u001b[0;34m->\u001b[0m \u001b[0;32mNone\u001b[0m\u001b[0;34m:\u001b[0m\u001b[0;34m\u001b[0m\u001b[0;34m\u001b[0m\u001b[0m\n",
            "\u001b[0;32m/usr/local/lib/python3.10/dist-packages/pandas/io/parsers/readers.py\u001b[0m in \u001b[0;36m_make_engine\u001b[0;34m(self, f, engine)\u001b[0m\n\u001b[1;32m   1878\u001b[0m                 \u001b[0;32mif\u001b[0m \u001b[0;34m\"b\"\u001b[0m \u001b[0;32mnot\u001b[0m \u001b[0;32min\u001b[0m \u001b[0mmode\u001b[0m\u001b[0;34m:\u001b[0m\u001b[0;34m\u001b[0m\u001b[0;34m\u001b[0m\u001b[0m\n\u001b[1;32m   1879\u001b[0m                     \u001b[0mmode\u001b[0m \u001b[0;34m+=\u001b[0m \u001b[0;34m\"b\"\u001b[0m\u001b[0;34m\u001b[0m\u001b[0;34m\u001b[0m\u001b[0m\n\u001b[0;32m-> 1880\u001b[0;31m             self.handles = get_handle(\n\u001b[0m\u001b[1;32m   1881\u001b[0m                 \u001b[0mf\u001b[0m\u001b[0;34m,\u001b[0m\u001b[0;34m\u001b[0m\u001b[0;34m\u001b[0m\u001b[0m\n\u001b[1;32m   1882\u001b[0m                 \u001b[0mmode\u001b[0m\u001b[0;34m,\u001b[0m\u001b[0;34m\u001b[0m\u001b[0;34m\u001b[0m\u001b[0m\n",
            "\u001b[0;32m/usr/local/lib/python3.10/dist-packages/pandas/io/common.py\u001b[0m in \u001b[0;36mget_handle\u001b[0;34m(path_or_buf, mode, encoding, compression, memory_map, is_text, errors, storage_options)\u001b[0m\n\u001b[1;32m    871\u001b[0m         \u001b[0;32mif\u001b[0m \u001b[0mioargs\u001b[0m\u001b[0;34m.\u001b[0m\u001b[0mencoding\u001b[0m \u001b[0;32mand\u001b[0m \u001b[0;34m\"b\"\u001b[0m \u001b[0;32mnot\u001b[0m \u001b[0;32min\u001b[0m \u001b[0mioargs\u001b[0m\u001b[0;34m.\u001b[0m\u001b[0mmode\u001b[0m\u001b[0;34m:\u001b[0m\u001b[0;34m\u001b[0m\u001b[0;34m\u001b[0m\u001b[0m\n\u001b[1;32m    872\u001b[0m             \u001b[0;31m# Encoding\u001b[0m\u001b[0;34m\u001b[0m\u001b[0;34m\u001b[0m\u001b[0m\n\u001b[0;32m--> 873\u001b[0;31m             handle = open(\n\u001b[0m\u001b[1;32m    874\u001b[0m                 \u001b[0mhandle\u001b[0m\u001b[0;34m,\u001b[0m\u001b[0;34m\u001b[0m\u001b[0;34m\u001b[0m\u001b[0m\n\u001b[1;32m    875\u001b[0m                 \u001b[0mioargs\u001b[0m\u001b[0;34m.\u001b[0m\u001b[0mmode\u001b[0m\u001b[0;34m,\u001b[0m\u001b[0;34m\u001b[0m\u001b[0;34m\u001b[0m\u001b[0m\n",
            "\u001b[0;31mFileNotFoundError\u001b[0m: [Errno 2] No such file or directory: 'data/day.csv'"
          ]
        }
      ]
    },
    {
      "cell_type": "code",
      "source": [
        "hour_df = pd.read_csv(\"data/hour.csv\")\n",
        "hour_df.head()"
      ],
      "metadata": {
        "id": "GDWtEEhk7CfQ"
      },
      "execution_count": null,
      "outputs": []
    },
    {
      "cell_type": "code",
      "source": [
        "day_df.sample(50)\n"
      ],
      "metadata": {
        "id": "j8p9WnQk7Iwu"
      },
      "execution_count": null,
      "outputs": []
    },
    {
      "cell_type": "markdown",
      "metadata": {
        "id": "FHSiqaZp8DC1"
      },
      "source": [
        "### Assessing Data"
      ]
    },
    {
      "cell_type": "markdown",
      "source": [
        "Setelah semua data yang dibutuhkan terkumpul, proses selanjutnya ialah penilaian terhadap data tersebut. Proses ini dilakukan untuk menilai kualitas dan struktur dari sebuah data. Selain itu, proses ini juga bertujuan untuk mengidentifikasi berbagai masalah yang terdapat dalam data, seperti missing value, unstandard value, dll."
      ],
      "metadata": {
        "id": "dfEP8Q6Ib20b"
      }
    },
    {
      "cell_type": "markdown",
      "source": [
        "**Mengecek Informasi data day_df**"
      ],
      "metadata": {
        "id": "OTc2nVt_cDz0"
      }
    },
    {
      "cell_type": "code",
      "source": [
        "day_df.info()"
      ],
      "metadata": {
        "id": "ax-3tEjc9Cj1"
      },
      "execution_count": null,
      "outputs": []
    },
    {
      "cell_type": "markdown",
      "source": [
        "**Mengecek Informasi data hour_df**"
      ],
      "metadata": {
        "id": "6g1yvogdgtu3"
      }
    },
    {
      "cell_type": "code",
      "source": [
        "hour_df.info()"
      ],
      "metadata": {
        "id": "lJfuz9tsg14u"
      },
      "execution_count": null,
      "outputs": []
    },
    {
      "cell_type": "markdown",
      "source": [
        "**Mengecek shape data day_df**"
      ],
      "metadata": {
        "id": "87u4BlmHcaau"
      }
    },
    {
      "cell_type": "code",
      "source": [
        "day_df.shape"
      ],
      "metadata": {
        "id": "0CNwJkeQcfk2"
      },
      "execution_count": null,
      "outputs": []
    },
    {
      "cell_type": "markdown",
      "source": [
        "**Mengecek shape data hour_df**"
      ],
      "metadata": {
        "id": "2wTuR3nqg5vv"
      }
    },
    {
      "cell_type": "code",
      "source": [
        "hour_df.shape"
      ],
      "metadata": {
        "id": "9oM5cUA6hSIB"
      },
      "execution_count": null,
      "outputs": []
    },
    {
      "cell_type": "markdown",
      "source": [
        "**Melihat statistik deskriptif data day_df**"
      ],
      "metadata": {
        "id": "BW7oIQd-ejz7"
      }
    },
    {
      "cell_type": "code",
      "source": [
        "day_df.describe()"
      ],
      "metadata": {
        "id": "jQpek56VesFk"
      },
      "execution_count": null,
      "outputs": []
    },
    {
      "cell_type": "markdown",
      "source": [
        "**Melihat statistik deskriptif data hour_df**"
      ],
      "metadata": {
        "id": "Lg8RyKPJhVIB"
      }
    },
    {
      "cell_type": "code",
      "source": [
        "hour_df.describe()"
      ],
      "metadata": {
        "id": "ykikh3P_hcMx"
      },
      "execution_count": null,
      "outputs": []
    },
    {
      "cell_type": "markdown",
      "source": [
        "**Mengecek missing value dan duplikasi data day_df**"
      ],
      "metadata": {
        "id": "_n4B_fHfe28L"
      }
    },
    {
      "cell_type": "code",
      "source": [
        "# Mengecek missing value pada day_df\n",
        "print(\"missing value : \\n\",day_df.isnull().sum())\n",
        "\n",
        "# Mengecek duplikasi data pada day_df\n",
        "print(\"duplikasi data : \",day_df.duplicated().sum())"
      ],
      "metadata": {
        "id": "pR47VHyxfIjF"
      },
      "execution_count": null,
      "outputs": []
    },
    {
      "cell_type": "markdown",
      "source": [
        "**Mengecek missing value dan duplikasi hour_df**"
      ],
      "metadata": {
        "id": "tOhDpWy2h-1k"
      }
    },
    {
      "cell_type": "code",
      "source": [
        "# Mengecek missing value pada hour_df\n",
        "print(\"missing value : \\n\",hour_df.isnull().sum())\n",
        "\n",
        "# Mengecek duplikasi data pada hour_df\n",
        "print(\"duplikasi data : \",hour_df.duplicated().sum())"
      ],
      "metadata": {
        "id": "NnFAOvWViOV0"
      },
      "execution_count": null,
      "outputs": []
    },
    {
      "cell_type": "markdown",
      "metadata": {
        "id": "EhN5R4hr8DC1"
      },
      "source": [
        "### Cleaning Data"
      ]
    },
    {
      "cell_type": "code",
      "source": [
        "# Berdasarkan hasil assessing data, tidak ditemukan missing value dan duplikasi data pada kedua dataset.\n",
        "# Namun, perlu dilakukan beberapa langkah cleaning data:\n",
        "\n",
        "# Mengubah tipe data kolom 'dteday' menjadi datetime pada kedua dataset.\n",
        "day_df['dteday'] = pd.to_datetime(day_df['dteday'])\n",
        "hour_df['dteday'] = pd.to_datetime(hour_df['dteday'])\n",
        "\n",
        "# Mengganti angka menjadi keterangan pada kolom 'season' di day_df\n",
        "day_df['season'] = day_df['season'].map({    1: 'Spring',    2: 'Summer',    3: 'Fall',    4: 'Winter'})\n",
        "\n",
        "# Mengganti angka menjadi keterangan pada kolom 'season' di hour_df\n",
        "hour_df['season'] = hour_df['season'].map({    1: 'Spring',    2: 'Summer',    3: 'Fall',  4: 'Winter'})\n",
        "# Mengganti angka menjadi keterangan pada kolom 'weekday' di day_df\n",
        "day_df['weekday'] = day_df['weekday'].map({    0: 'Sunday', 1: 'Monday', 2: 'Tuesday', 3: 'Wednesday',4: 'Thursday', 5: 'Friday', 6: 'Saturday'})\n",
        "\n",
        "# Mengganti angka menjadi keterangan pada kolom 'weekday' di hour_df\n",
        "hour_df['weekday'] = hour_df['weekday'].map({ 0: 'Sunday', 1: 'Monday', 2: 'Tuesday', 3: 'Wednesday', 4: 'Thursday', 5: 'Friday', 6: 'Saturday'})\n",
        "# Mengganti angka menjadi keterangan pada kolom 'weathersit' di day_df\n",
        "day_df['weathersit'] = day_df['weathersit'].map({ 1: 'Clear', 2: 'Mist', 3: 'Light Snow/Rain', 4: 'Heavy Rain/Snow'})\n",
        "\n",
        "# Mengganti angka menjadi keterangan pada kolom 'weathersit' di hour_df\n",
        "hour_df['weathersit'] = hour_df['weathersit'].map({ 1: 'Clear', 2: 'Mist', 3: 'Light Snow/Rain', 4: 'Heavy Rain/Snow'})\n",
        "\n",
        "# Mengganti angka menjadi keterangan pada kolom 'year' di day_df\n",
        "day_df['yr'] = day_df['yr'].map({ 0: '2011', 1: '2012'})\n",
        "\n",
        "# Mengganti angka menjadi keterangan pada kolom 'year' di hour_df\n",
        "hour_df['yr'] = hour_df['yr'].map({ 0: '2011', 1: '2012'})\n",
        "\n",
        "# Mengganti angka menjadi keterangan pada kolom 'month' di day_df\n",
        "day_df['mnth'] = day_df['mnth'].map({  1: 'January', 2: 'February', 3: 'March', 4: 'April', 5: 'May', 6: 'June',7: 'July',  8: 'August', 9: 'September', 10: 'October', 11: 'November',  12: 'December'})\n",
        "\n",
        "# Mengganti angka menjadi keterangan pada kolom 'month' di hour_df\n",
        "hour_df['mnth'] = hour_df['mnth'].map({ 1: 'January', 2: 'February',3: 'March',4: 'April',5: 'May',6: 'June',7: 'July',8: 'August',9: 'September',10: 'October',11: 'November',12: 'December'})\n",
        "\n",
        "# Mengganti 'workingday' menjadi 'hari kerja' dan 'hari libur' di day_df\n",
        "day_df['workingday'] = day_df['workingday'].map({0: 'hari libur/weekend', 1: 'hari kerja'})\n",
        "\n",
        "# Mengganti 'workingday' menjadi 'hari kerja' dan 'hari libur' di hour_df\n",
        "hour_df['workingday'] = hour_df['workingday'].map({0: 'hari libur/weekend', 1: 'hari kerja'})\n",
        "\n",
        "# Mengganti 'holiday' menjadi 'libur' dan 'tidak libur' di day_df\n",
        "day_df['holiday'] = day_df['holiday'].map({0: 'tidak libur', 1: 'libur'})\n",
        "\n",
        "# Mengganti 'holiday' menjadi 'libur' dan 'tidak libur' di hour_df\n",
        "hour_df['holiday'] = hour_df['holiday'].map({0: 'tidak libur', 1: 'libur'})"
      ],
      "metadata": {
        "id": "Xhb1BwRBywnE"
      },
      "execution_count": null,
      "outputs": []
    },
    {
      "cell_type": "markdown",
      "source": [],
      "metadata": {
        "id": "Q_5ejIqckiSP"
      }
    },
    {
      "cell_type": "markdown",
      "metadata": {
        "id": "gp-Y6wU38DC1"
      },
      "source": [
        "## Exploratory Data Analysis (EDA)"
      ]
    },
    {
      "cell_type": "code",
      "source": [
        "day_df.describe(include='all')\n"
      ],
      "metadata": {
        "id": "t81XhEzqooB1"
      },
      "execution_count": null,
      "outputs": []
    },
    {
      "cell_type": "code",
      "source": [
        "hour_df.describe(include='all')"
      ],
      "metadata": {
        "id": "URsMWkygpR8_"
      },
      "execution_count": null,
      "outputs": []
    },
    {
      "cell_type": "code",
      "source": [
        "# Group by month and sort by month order\n",
        "monthly_data = day_df.groupby('mnth').agg({'cnt': ['min', 'max','mean','sum']})\n",
        "\n",
        "# Define the order of months\n",
        "month_order = ['January', 'February', 'March', 'April', 'May', 'June',\n",
        "              'July', 'August', 'September', 'October', 'November', 'December']\n",
        "\n",
        "# Sort the data by month order\n",
        "monthly_data = monthly_data.reindex(month_order)\n",
        "\n",
        "monthly_data"
      ],
      "metadata": {
        "id": "WThY-CivsOzm"
      },
      "execution_count": null,
      "outputs": []
    },
    {
      "cell_type": "markdown",
      "source": [
        "Berdasarkan output diatas dapat disimpulkan bahwa pada tahun 2011 hingga 2012, rata rata peminjaman sepeda **tertinggi** ada pada bulan **Januari** dan **terendah** pada bulan **September**."
      ],
      "metadata": {
        "id": "lXj-rGlksUWW"
      }
    },
    {
      "cell_type": "code",
      "source": [
        "day_df.groupby(by=\"season\").agg({\n",
        "    \"cnt\": [\"max\", \"min\", \"mean\", \"sum\"]\n",
        "})"
      ],
      "metadata": {
        "id": "kKJ8i9bbszKv"
      },
      "execution_count": null,
      "outputs": []
    },
    {
      "cell_type": "markdown",
      "source": [
        "Berdasarkan data diatas dapat disimpulkan baha pada tahun 2011 hingga 2012, rata rata peminjamban sepeda **tertinggi** ada pada **musim Gugur** dan **terendah** pada **musim Semi**"
      ],
      "metadata": {
        "id": "4phVd-HZuUc6"
      }
    },
    {
      "cell_type": "code",
      "source": [
        "hour_df.groupby(by=\"weathersit\").agg({\n",
        "    \"cnt\": [\"max\", \"min\", \"mean\", \"sum\"]\n",
        "})"
      ],
      "metadata": {
        "id": "pQ5vmwuRuqTV"
      },
      "execution_count": null,
      "outputs": []
    },
    {
      "cell_type": "markdown",
      "source": [
        "Berdasarkan data diatas dapat disimpulkan baha pada tahun 2011 hingga 2012, rata rata peminjaman sepeda **tertinggi** ada pada cuaca **cerah** dan **terendah** pada cuaca **hujan lebat**"
      ],
      "metadata": {
        "id": "uN13MWQeu_u0"
      }
    },
    {
      "cell_type": "code",
      "source": [
        "hour_df.groupby(by=\"hr\").agg({\n",
        "    \"cnt\": [\"max\", \"min\", \"mean\", \"sum\"]\n",
        "})"
      ],
      "metadata": {
        "id": "co6Ev6uCvQ92"
      },
      "execution_count": null,
      "outputs": []
    },
    {
      "cell_type": "markdown",
      "source": [
        "Berdasarkan data diatas dapat disimpulkan baha pada tahun 2011 hingga 2012, rata rata peminjaman sepeda tertinggi ada pada jam 17.00 - 18.00 dan terendah pada jam 04.00 - 05.00"
      ],
      "metadata": {
        "id": "oqIxbVdmygyB"
      }
    },
    {
      "cell_type": "markdown",
      "metadata": {
        "id": "zsyZjqak8DC2"
      },
      "source": [
        "## Visualization & Explanatory Analysis"
      ]
    },
    {
      "cell_type": "markdown",
      "metadata": {
        "id": "HZxOiQ6n8DC2"
      },
      "source": [
        "### Pertanyaan 1:"
      ]
    },
    {
      "cell_type": "markdown",
      "source": [
        "**Bagaimana pola penggunaan sepeda pada hari kerja dibandingkan akhir pekan atau hari libur?**"
      ],
      "metadata": {
        "id": "hm_mzzRr7QOZ"
      }
    },
    {
      "cell_type": "code",
      "source": [
        "# prompt: buat diagram batang working day dan cnt dan tampilin nilai, hilagin garis diatas\n",
        "\n",
        "plt.figure(figsize=(10, 6))\n",
        "sns.barplot(x='workingday', y='cnt', data=day_df,errorbar=None)  # ci=None removes the error bars\n",
        "plt.xlabel('Working Day')\n",
        "plt.ylabel('Count')\n",
        "plt.title('Jumlah Peminjaman Sepeda Berdasarkan Hari Kerja')\n",
        "\n",
        "# Menambahkan nilai pada setiap bar\n",
        "for p in plt.gca().patches:\n",
        "    plt.gca().annotate(format(p.get_height(), '.0f'),\n",
        "                   (p.get_x() + p.get_width() / 2., p.get_height()),\n",
        "                   ha = 'center', va = 'center',\n",
        "                   xytext = (0, 10),\n",
        "                   textcoords = 'offset points')\n",
        "\n",
        "plt.show()\n",
        "# prompt: buat diagram batang working day dan cnt dan tampilin nilai, hilagin garis diatas\n",
        "\n",
        "plt.figure(figsize=(10, 6))\n",
        "sns.barplot(x='holiday', y='cnt', data=day_df,errorbar=None )  # ci=None removes the error bars\n",
        "plt.xlabel('Holiday')\n",
        "plt.ylabel('Count')\n",
        "plt.title('Jumlah Peminjaman Sepeda Berdasarkan Hari Libur')\n",
        "\n",
        "# Menambahkan nilai pada setiap bar\n",
        "for p in plt.gca().patches:\n",
        "    plt.gca().annotate(format(p.get_height(), '.0f'),\n",
        "                   (p.get_x() + p.get_width() / 2., p.get_height()),\n",
        "                   ha = 'center', va = 'center',\n",
        "                   xytext = (0, 10),\n",
        "                   textcoords = 'offset points')\n",
        "\n",
        "plt.show()"
      ],
      "metadata": {
        "id": "4GWXx2SjcJWl"
      },
      "execution_count": null,
      "outputs": []
    },
    {
      "cell_type": "markdown",
      "source": [
        "Berdasarkan visualisasi data menggunakan barplot di atas, dapat disimpulkan sebagai berikut:\n",
        "\n",
        "Jumlah pengguna sepeda pada hari kerja (Senin-Jumat) lebih banyak dari hari weekend (Sabtu dan Minggu)\n",
        "\n",
        "Jumlah pengguna sepeda pada hari libur nasional lebih sedikit dari hari biasa.\n"
      ],
      "metadata": {
        "id": "vF621W4WZw91"
      }
    },
    {
      "cell_type": "markdown",
      "metadata": {
        "id": "DgHI7CiU8DC2"
      },
      "source": [
        "### Pertanyaan 2:"
      ]
    },
    {
      "cell_type": "markdown",
      "source": [
        "**Apakah terdapat perbedaan signifikan dalam jumlah penyewaan sepeda antara pengguna kasual dan terdaftar?**"
      ],
      "metadata": {
        "id": "dUohYI78eFXw"
      }
    },
    {
      "cell_type": "code",
      "source": [
        "# prompt: bandingkan penggunaan casual dan register secara persentase buat diagram  lingkaran\n",
        "\n",
        "# Hitung persentase pengguna casual dan registered\n",
        "total_users = hour_df['casual'].sum() + hour_df['registered'].sum()\n",
        "casual_percentage = (hour_df['casual'].sum() / total_users) * 100\n",
        "registered_percentage = (hour_df['registered'].sum() / total_users) * 100\n",
        "\n",
        "# Buat diagram lingkaran\n",
        "labels = ['Casual', 'Registered']\n",
        "sizes = [casual_percentage, registered_percentage]\n",
        "colors = ['lightcoral', 'lightskyblue']\n",
        "explode = (0.1, 0)  # Pisahkan sedikit bagian 'Casual'\n",
        "\n",
        "plt.figure(figsize=(6, 6))\n",
        "plt.pie(sizes, explode=explode, labels=labels, colors=colors, autopct='%1.1f%%', shadow=True, startangle=140)\n",
        "plt.title('Persentase Penggunaan Sepeda Berdasarkan Tipe Pengguna')\n",
        "plt.axis('equal')  # Pastikan lingkaran terlihat bulat\n",
        "plt.show()"
      ],
      "metadata": {
        "id": "jsbNpQxaoYTN"
      },
      "execution_count": null,
      "outputs": []
    },
    {
      "cell_type": "markdown",
      "source": [
        "Diagram ini menunjukkan bahwa pengguna terdaftar jauh lebih banyak (81,2%) dibandingkan dengan pengguna kasual (18,8%). Ini mengindikasikan bahwa program penyewaan sepeda telah berhasil menarik minat pengguna untuk berlangganan secara reguler.\n"
      ],
      "metadata": {
        "id": "ecSHKtELoP0Y"
      }
    },
    {
      "cell_type": "markdown",
      "source": [
        "### Pertanyaan 3:"
      ],
      "metadata": {
        "id": "782XmpLuaUYN"
      }
    },
    {
      "cell_type": "markdown",
      "metadata": {
        "id": "bIwVHcqJo-WA"
      },
      "source": [
        "**3. Bagaimana peristiwa atau anomali cuaca ekstrem mempengaruhi jumlah penyewaan sepeda?**"
      ]
    },
    {
      "cell_type": "code",
      "source": [
        "plt.figure(figsize=(10, 6))\n",
        "sns.barplot(x='weathersit', y='cnt',hue='weathersit', data=hour_df, estimator=sum, errorbar=None, palette='Set2')\n",
        "plt.xlabel('Kondisi Cuaca')\n",
        "plt.ylabel('Total Penggunaan Sepeda')\n",
        "plt.title('Total Penggunaan Sepeda Berdasarkan Kondisi Cuaca')\n",
        "\n",
        "# Menambahkan nilai pada setiap bar\n",
        "for p in plt.gca().patches:\n",
        "    plt.gca().annotate(format(p.get_height(), '.0f'),\n",
        "                   (p.get_x() + p.get_width() / 2., p.get_height()),\n",
        "                   ha = 'center', va = 'center',\n",
        "                   xytext = (0, 10),\n",
        "                   textcoords = 'offset points')\n",
        "\n",
        "plt.show()"
      ],
      "metadata": {
        "id": "hQ6X1wbgxFuE"
      },
      "execution_count": null,
      "outputs": []
    },
    {
      "cell_type": "markdown",
      "source": [
        "Diagram ini menunjukkan bahwa jumlah total penggunaan sepeda paling tinggi pada cuaca cerah, dan paling rendah pada cuaca hujan lebat/salju. Ini menunjukkan bahwa cuaca memiliki pengaruh yang signifikan terhadap minat masyarakat untuk menggunakan sepeda. Ketika cuaca buruk, seperti hujan lebat atau salju, masyarakat cenderung lebih memilih menggunakan transportasi lain yang lebih terlindungi dari cuaca ekstrem."
      ],
      "metadata": {
        "id": "1Jhh5suovRXT"
      }
    },
    {
      "cell_type": "markdown",
      "source": [
        "### Pertanyaan 4:"
      ],
      "metadata": {
        "id": "8g6R0zc7aZMp"
      }
    },
    {
      "cell_type": "markdown",
      "source": [
        "**Apakah ada tren musiman yang konsisten dalam penggunaan sepeda sepanjang tahun?**"
      ],
      "metadata": {
        "id": "C6dqVGUw67Wq"
      }
    },
    {
      "cell_type": "code",
      "source": [
        "# Membuat variabel baru berisi bulan dan tahun lalu\n",
        "day_df['year_month'] = day_df['dteday'].dt.strftime('%Y-%m')\n",
        "\n",
        "# Mengelompokkan data berdasarkan bulan dan tahun, kemudian menghitung jumlah penyewaan sepeda\n",
        "monthly_trend = day_df.groupby('year_month')['cnt'].sum()\n",
        "\n",
        "# Membuat plot tren bulanan\n",
        "plt.figure(figsize=(12, 6))\n",
        "plt.plot(monthly_trend.index, monthly_trend.values)\n",
        "plt.xlabel('Bulan dan Tahun')\n",
        "plt.ylabel('Jumlah Penyewaan Sepeda')\n",
        "plt.title('Tren Bulanan Penyewaan Sepeda')\n",
        "plt.xticks(rotation=45)\n",
        "plt.grid(True)\n",
        "plt.show()\n"
      ],
      "metadata": {
        "id": "57JeyF5B67zI"
      },
      "execution_count": null,
      "outputs": []
    },
    {
      "cell_type": "markdown",
      "source": [
        "Secara umum, terdapat tren peningkatan jumlah penyewaan sepeda dari tahun 2011 hingga 2012. Ini menunjukkan bahwa popularitas penggunaan sepeda terus meningkat selama periode tersebut.\n",
        "\n",
        "Selain tren keseluruhan, terdapat beberapa fluktuasi yang signifikan dalam jumlah penyewaan sepeda sepanjang tahun.  Pada beberapa bulan,pada bulan Mei - Oktober, jumlah penyewaan cenderung lebih tinggi dibandingkan dengan bulan-bulan lainnya.\n",
        "\n",
        "Sebaliknya, pada November-Februari, jumlah penyewaan cenderung lebih rendah."
      ],
      "metadata": {
        "id": "zOK7GxiV8vfD"
      }
    },
    {
      "cell_type": "markdown",
      "source": [
        "### Pertanyaan 5:\n"
      ],
      "metadata": {
        "id": "nvYQWxgJ6012"
      }
    },
    {
      "cell_type": "markdown",
      "metadata": {
        "id": "AHIcEuks61L1"
      },
      "source": [
        "5. Bagaimana pengaruh suhu udara, kecepatan angin dan kelembaban terhadap keputusan pengguna untuk menyewa sepeda?"
      ]
    },
    {
      "cell_type": "code",
      "source": [
        "# Hitung korelasi antara variabel-variabel yang terkait\n",
        "correlation_matrix = day_df[['temp', 'windspeed', 'hum', 'cnt']].corr()\n",
        "\n",
        "# Buat heatmap korelasi\n",
        "plt.figure(figsize=(8, 6))\n",
        "sns.heatmap(correlation_matrix, annot=True, cmap='coolwarm', fmt=\".2f\")\n",
        "plt.title('Korelasi antara Suhu, Kecepatan Angin, Kelembapan, dan Jumlah Penyewaan')\n",
        "plt.show()"
      ],
      "metadata": {
        "id": "oXQZKo1s-3JE"
      },
      "execution_count": null,
      "outputs": []
    },
    {
      "cell_type": "markdown",
      "source": [
        "Suhu (temp) memiliki korelasi positif yang cukup kuat dengan jumlah penyewaan (cnt). Artinya, ketika suhu udara meningkat, jumlah penyewaan sepeda juga cenderung meningkat.\n",
        "\n",
        "Kecepatan angin (windspeed) memiliki korelasi negatif yang lemah dengan jumlah penyewaan (cnt). Artinya, ketika kecepatan angin meningkat, jumlah penyewaan sepeda cenderung sedikit menurun. Namun, korelasi ini relatif lemah, sehingga pengaruh kecepatan angin terhadap keputusan sewa sepeda tidak terlalu signifikan.\n",
        "\n",
        "Kelembapan (hum) memiliki korelasi negatif yang lemah dengan jumlah penyewaan (cnt). Artinya, ketika kelembapan udara meningkat, jumlah penyewaan sepeda cenderung sedikit menurun. Sama seperti kecepatan angin, korelasi ini juga relatif lemah, sehingga pengaruh kelembapan terhadap keputusan sewa sepeda tidak terlalu signifikan."
      ],
      "metadata": {
        "id": "6XKgfNbW_5rU"
      }
    },
    {
      "cell_type": "markdown",
      "source": [
        "## Analisis Lanjutan"
      ],
      "metadata": {
        "id": "9y4VUsmcYNZ5"
      }
    },
    {
      "cell_type": "markdown",
      "source": [
        "###Analisis Clustering"
      ],
      "metadata": {
        "id": "uYrjKkUnToHq"
      }
    },
    {
      "cell_type": "code",
      "source": [
        "# mengelompokkan data berdasarkan 'weather' dan menghitung nilai unik serta statistik untuk kolom 'count'\n",
        "weather_analysis = hour_df.groupby('weathersit').agg({\n",
        "    'cnt': ['nunique', 'min', 'max', 'mean', 'median', 'std']\n",
        "})\n",
        "\n",
        "weather_analysis"
      ],
      "metadata": {
        "id": "0cTsgPAoZl3I"
      },
      "execution_count": null,
      "outputs": []
    },
    {
      "cell_type": "markdown",
      "source": [
        "Dari tabel di atas, kita dapat melihat statistik 'cnt' (jumlah penyewaan sepeda) untuk setiap kondisi cuaca.\n",
        "Misalnya, pada kondisi cuaca 'Clear', jumlah penyewaan memiliki rata-rata tertinggi, menunjukkan bahwa cuaca cerah berkorelasi dengan peningkatan minat penyewaan sepeda. Sebaliknya, pada kondisi cuaca 'Heavy Rain/Snow', jumlah penyewaan memiliki rata-rata terendah, menunjukkan bahwa cuaca buruk mengurangi minat penyewaan."
      ],
      "metadata": {
        "id": "hZgJnlLOZnAl"
      }
    },
    {
      "cell_type": "markdown",
      "metadata": {
        "id": "_WeHlCeX8DC2"
      },
      "source": [
        "## Conclusion"
      ]
    },
    {
      "cell_type": "markdown",
      "source": [
        "Berdasarkan analisis yang telah dilakukan pada dataset Bike Sharing, dapat disimpulkan bahwa beberapa faktor berpengaruh terhadap pola penggunaan sepeda.\n",
        "\n",
        "**Pola Penggunaan Sepeda:**\n",
        "\n",
        "* **Hari Kerja vs Akhir Pekan:** Penggunaan sepeda lebih tinggi pada hari kerja dibandingkan dengan akhir pekan dan hari libur. Hal ini menunjukkan bahwa sebagian besar pengguna sepeda adalah pekerja atau pelajar yang menggunakan sepeda untuk keperluan komuter.\n",
        "* **Pengguna Terdaftar vs Kasual:** Sebagian besar pengguna sepeda adalah pengguna terdaftar, yang menunjukkan bahwa program berlangganan sepeda telah sukses menarik minat pengguna.\n",
        "* **Musim:** Terdapat tren musiman yang jelas, di mana jumlah penyewaan sepeda lebih tinggi pada musim panas dan gugur, serta lebih rendah pada musim dingin dan semi. Hal ini kemungkinan dipengaruhi oleh kondisi cuaca dan suhu yang lebih nyaman pada musim panas dan gugur.\n",
        "* **Kondisi Cuaca:** Cuaca memiliki pengaruh yang signifikan terhadap penggunaan sepeda. Jumlah penyewaan cenderung lebih tinggi pada cuaca cerah dan lebih rendah pada cuaca buruk seperti hujan lebat atau salju.\n",
        "\n",
        "**Faktor Pengaruh:**\n",
        "\n",
        "* **Suhu:** Suhu udara memiliki korelasi positif yang kuat terhadap jumlah penyewaan sepeda. Ketika suhu naik, minat untuk menggunakan sepeda juga meningkat.\n",
        "* **Kecepatan Angin dan Kelembapan:** Kecepatan angin dan kelembapan memiliki korelasi negatif lemah terhadap jumlah penyewaan. Namun, pengaruhnya tidak terlalu signifikan.\n",
        "\n",
        "**Analisis Lanjutan:**\n",
        "\n",
        "* **Clustering berdasarkan Cuaca:** Analisis clustering menunjukkan bahwa cuaca cerah memiliki rata-rata jumlah penyewaan tertinggi, sedangkan cuaca buruk memiliki rata-rata terendah.\n"
      ],
      "metadata": {
        "id": "RFAAT6tZaGKs"
      }
    },
    {
      "cell_type": "code",
      "source": [
        "day_df.sample(20)"
      ],
      "metadata": {
        "id": "zqhDPacvhplC"
      },
      "execution_count": null,
      "outputs": []
    },
    {
      "cell_type": "code",
      "source": [
        "# prompt: buat dashboard beserta analisis pertanyaan 1 sampai 5 dan analisis lajutan dengan streamlit, ada pilihan side barnya\n",
        "\n",
        "import streamlit as st\n",
        "import pandas as pd\n",
        "import matplotlib.pyplot as plt\n",
        "import seaborn as sns\n",
        "\n",
        "# Load your data (replace with your actual data loading)\n",
        "day_df = pd.read_csv('/content/day.csv')\n",
        "hour_df = pd.read_csv('/content/hour.csv')\n",
        "\n",
        "# Sidebar with options\n",
        "st.sidebar.title(\"Bike Sharing Dashboard\")\n",
        "selected_analysis = st.sidebar.selectbox(\"Pilih Analisis\", [\"Pertanyaan 1\", \"Pertanyaan 2\", \"Pertanyaan 3\", \"Pertanyaan 4\", \"Pertanyaan 5\", \"Analisis Lanjutan\"])\n",
        "\n",
        "# Main content area\n",
        "st.title(\"Bike Sharing Dashboard\")\n",
        "\n",
        "if selected_analysis == \"Pertanyaan 1\":\n",
        "    st.header(\"Pola Penggunaan Sepeda pada Hari Kerja vs Akhir Pekan\")\n",
        "\n",
        "    # Visualisasi dengan Barplot (copy from your existing code)\n",
        "    st.subheader(\"Jumlah Peminjaman Sepeda Berdasarkan Hari Kerja\")\n",
        "    fig, ax = plt.subplots(figsize=(10, 6))\n",
        "    sns.barplot(x='workingday', y='cnt', data=day_df, errorbar=None, ax=ax)\n",
        "    plt.xlabel('Working Day')\n",
        "    plt.ylabel('Count')\n",
        "    plt.title('Jumlah Peminjaman Sepeda Berdasarkan Hari Kerja')\n",
        "    st.pyplot(fig)\n",
        "\n",
        "    st.subheader(\"Jumlah Peminjaman Sepeda Berdasarkan Hari Libur\")\n",
        "    fig, ax = plt.subplots(figsize=(10, 6))\n",
        "    sns.barplot(x='holiday', y='cnt', data=day_df, errorbar=None, ax=ax)\n",
        "    plt.xlabel('Holiday')\n",
        "    plt.ylabel('Count')\n",
        "    plt.title('Jumlah Peminjaman Sepeda Berdasarkan Hari Libur')\n",
        "    st.pyplot(fig)\n",
        "\n",
        "    st.write(\"**Kesimpulan:**\")\n",
        "    st.write(\"- Jumlah pengguna sepeda pada hari kerja lebih banyak daripada hari weekend.\")\n",
        "    st.write(\"- Jumlah pengguna sepeda pada hari libur nasional lebih sedikit daripada hari biasa.\")\n",
        "\n",
        "\n",
        "elif selected_analysis == \"Pertanyaan 2\":\n",
        "    st.header(\"Perbedaan Signifikan dalam Jumlah Penyewaan Sepeda (Casual vs Registered)\")\n",
        "\n",
        "    # Visualisasi dengan Pie Chart (copy from your existing code)\n",
        "    total_users = hour_df['casual'].sum() + hour_df['registered'].sum()\n",
        "    casual_percentage = (hour_df['casual'].sum() / total_users) * 100\n",
        "    registered_percentage = (hour_df['registered'].sum() / total_users) * 100\n",
        "\n",
        "    labels = ['Casual', 'Registered']\n",
        "    sizes = [casual_percentage, registered_percentage]\n",
        "    colors = ['lightcoral', 'lightskyblue']\n",
        "    explode = (0.1, 0)\n",
        "\n",
        "    fig, ax = plt.subplots(figsize=(6, 6))\n",
        "    plt.pie(sizes, explode=explode, labels=labels, colors=colors, autopct='%1.1f%%', shadow=True, startangle=140)\n",
        "    plt.title('Persentase Penggunaan Sepeda Berdasarkan Tipe Pengguna')\n",
        "    plt.axis('equal')\n",
        "    st.pyplot(fig)\n",
        "\n",
        "    st.write(\"**Kesimpulan:**\")\n",
        "    st.write(\"- Pengguna terdaftar jauh lebih banyak daripada pengguna kasual.\")\n",
        "    st.write(\"- Ini menunjukkan bahwa program penyewaan sepeda telah berhasil menarik minat pengguna untuk berlangganan secara reguler.\")\n",
        "\n",
        "\n",
        "elif selected_analysis == \"Pertanyaan 3\":\n",
        "    st.header(\"Pengaruh Cuaca Ekstrem terhadap Jumlah Penyewaan Sepeda\")\n",
        "\n",
        "    # Visualisasi dengan Barplot (copy from your existing code)\n",
        "    fig, ax = plt.subplots(figsize=(10, 6))\n",
        "    sns.barplot(x='weathersit', y='cnt', hue='weathersit', data=hour_df, estimator=sum, errorbar=None, palette='Set2', ax=ax)\n",
        "    plt.xlabel('Kondisi Cuaca')\n",
        "    plt.ylabel('Total Penggunaan Sepeda')\n",
        "    plt.title('Total Penggunaan Sepeda Berdasarkan Kondisi Cuaca')\n",
        "    st.pyplot(fig)\n",
        "\n",
        "    st.write(\"**Kesimpulan:**\")\n",
        "    st.write(\"- Jumlah total penggunaan sepeda paling tinggi pada cuaca cerah.\")\n",
        "    st.write(\"- Jumlah total penggunaan sepeda paling rendah pada cuaca hujan lebat/salju.\")\n",
        "    st.write(\"- Ini menunjukkan bahwa cuaca memiliki pengaruh yang signifikan terhadap minat masyarakat untuk menggunakan sepeda.\")\n",
        "\n",
        "\n",
        "elif selected_analysis == \"Pertanyaan 4\":\n",
        "    st.header(\"Tren Musiman Penggunaan Sepeda Sepanjang Tahun\")\n",
        "\n",
        "    # Visualisasi dengan Lineplot (copy from your existing code)\n",
        "    day_df['year_month'] = day_df['dteday'].dt.strftime('%Y-%m')\n",
        "    monthly_trend = day_df.groupby('year_month')['cnt'].sum()\n",
        "\n",
        "    fig, ax = plt.subplots(figsize=(12, 6))\n",
        "    plt.plot(monthly_trend.index, monthly_trend.values)\n",
        "    plt.xlabel('Bulan dan Tahun')\n",
        "    plt.ylabel('Jumlah Penyewaan Sepeda')\n",
        "    plt.title('Tren Bulanan Penyewaan Sepeda')\n",
        "    plt.xticks(rotation=45)\n",
        "    plt.grid(True)\n",
        "    st.pyplot(fig)\n",
        "\n",
        "    st.write(\"**Kesimpulan:**\")\n",
        "    st.write(\"- Terdapat tren peningkatan jumlah penyewaan sepeda dari tahun 2011 hingga 2012.\")\n",
        "    st.write(\"- Pada beberapa bulan, jumlah penyewaan cenderung lebih tinggi (Mei-Oktober).\")\n",
        "    st.write(\"- Pada bulan-bulan lain (November-Februari), jumlah penyewaan cenderung lebih rendah.\")\n",
        "\n",
        "\n",
        "elif selected_analysis == \"Pertanyaan 5\":\n",
        "    st.header(\"Pengaruh Suhu, Kecepatan Angin, dan Kelembapan terhadap Keputusan Sewa Sepeda\")\n",
        "\n",
        "    # Visualisasi dengan Heatmap (copy from your existing code)\n",
        "    correlation_matrix = day_df[['temp', 'windspeed', 'hum', 'cnt']].corr()\n",
        "\n",
        "    fig, ax = plt.subplots(figsize=(8, 6))\n",
        "    sns.heatmap(correlation_matrix, annot=True, cmap='coolwarm', fmt=\".2f\", ax=ax)\n",
        "    plt.title('Korelasi antara Suhu, Kecepatan Angin, Kelembapan, dan Jumlah Penyewaan')\n",
        "    st.pyplot(fig)\n",
        "\n",
        "    st.write(\"**Kesimpulan:**\")\n",
        "    st.write(\"- Suhu memiliki korelasi positif yang kuat dengan jumlah penyewaan.\")\n",
        "    st.write(\"- Kecepatan angin dan kelembapan memiliki korelasi negatif lemah dengan jumlah penyewaan.\")\n",
        "\n",
        "\n",
        "elif selected_analysis == \"Analisis Lanjutan\":\n",
        "    st.header(\"Analisis Lanjutan\")\n",
        "\n",
        "    # Analisis Clustering (copy from your existing code)\n",
        "    weather_analysis = hour_df.groupby('weathersit').agg({\n",
        "        'cnt': ['nunique', 'min', 'max', 'mean', 'median', 'std']\n",
        "    })\n",
        "    st.write(weather_analysis)\n",
        "\n",
        "    st.write(\"**Kesimpulan:**\")\n",
        "    st.write(\"- Cuaca cerah memiliki rata-rata jumlah penyewaan tertinggi.\")\n",
        "    st.write(\"- Cuaca buruk memiliki rata-rata jumlah penyewaan terendah.\")\n",
        "\n",
        "\n",
        "# You can add more analyses and visualizations based on your needs."
      ],
      "metadata": {
        "id": "UNvkj15bjIOB"
      },
      "execution_count": null,
      "outputs": []
    }
  ],
  "metadata": {
    "kernelspec": {
      "display_name": "Python 3",
      "language": "python",
      "name": "python3"
    },
    "language_info": {
      "name": "python",
      "version": "3.8.0 (tags/v3.8.0:fa919fd, Oct 14 2019, 19:21:23) [MSC v.1916 32 bit (Intel)]"
    },
    "orig_nbformat": 4,
    "vscode": {
      "interpreter": {
        "hash": "972b3bf27e332e87b5379f2791f6ef9dfc79c71018c370b0d7423235e20fe4d7"
      }
    },
    "colab": {
      "provenance": []
    }
  },
  "nbformat": 4,
  "nbformat_minor": 0
}