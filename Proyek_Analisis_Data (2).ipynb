{
  "cells": [
    {
      "cell_type": "markdown",
      "metadata": {
        "id": "H9wADwK78DCz"
      },
      "source": [
        "# Proyek Analisis Data: Bike Sharing Dataset\n",
        "- **Nama:** Dwiki Raynaldo. E\n",
        "- **Email:** dwikiraynaldo27@gmail.com\n",
        "- **ID Dicoding:** dwiki27"
      ]
    },
    {
      "cell_type": "markdown",
      "source": [],
      "metadata": {
        "id": "dYY7q7Ri5-_l"
      }
    },
    {
      "cell_type": "markdown",
      "metadata": {
        "id": "eE0raob58DC0"
      },
      "source": [
        "## Menentukan Pertanyaan Bisnis"
      ]
    },
    {
      "cell_type": "markdown",
      "metadata": {
        "id": "GmQeQ5YF8DC0"
      },
      "source": [
        "1. Bagaimana pola penggunaan sepeda pada hari kerja dibandingkan akhir pekan atau hari libur?\n",
        "\n",
        "2. Apakah terdapat perbedaan signifikan dalam jumlah penyewaan sepeda antara pengguna kasual dan terdaftar?\n",
        "\n",
        "3. Bagaimana peristiwa atau anomali cuaca ekstrem mempengaruhi jumlah penyewaan sepeda?\n",
        "\n",
        "4. Apakah ada tren musiman yang konsisten dalam penggunaan sepeda sepanjang tahun?\n",
        "\n",
        "5. Bagaimana pengaruh suhu udara, kecepatan angin dan kelembaban terhadap keputusan pengguna untuk menyewa sepeda?"
      ]
    },
    {
      "cell_type": "markdown",
      "metadata": {
        "id": "H-z4QGlO8DC1"
      },
      "source": [
        "## Import Semua Packages/Library yang Digunakan"
      ]
    },
    {
      "cell_type": "code",
      "execution_count": 5,
      "metadata": {
        "id": "FVYwaObI8DC1"
      },
      "outputs": [],
      "source": [
        "import numpy as np\n",
        "import pandas as pd\n",
        "import matplotlib.pyplot as plt\n",
        "import seaborn as sns\n",
        "from datetime import datetime"
      ]
    },
    {
      "cell_type": "markdown",
      "metadata": {
        "id": "h_Sh51Xy8DC1"
      },
      "source": [
        "## Data Wrangling      "
      ]
    },
    {
      "cell_type": "markdown",
      "source": [
        "Data wrangling merupakan sebuah proses atau kumpulan kegiatan yang meliputi pengumpulan data (Gathering data), penilaian data (Assessing data), serta pembersihan data (Cleaning data) sebelum data digunakan dalam proses analisis data."
      ],
      "metadata": {
        "id": "YHlUYZx9Wv5h"
      }
    },
    {
      "cell_type": "markdown",
      "metadata": {
        "id": "sXU2GBYu8DC1"
      },
      "source": [
        "### Gathering Data"
      ]
    },
    {
      "cell_type": "markdown",
      "source": [
        "Tahap data wrangling, dimulai dengan proses pengumpulan data. Pada proses ini kita akan mengumpulkan semua data yang dibutuhkan untuk menjawab semua pertanyaan atau masalah bisnis yang ingin kita hadapi."
      ],
      "metadata": {
        "id": "YXE6ZL2jW2-5"
      }
    },
    {
      "cell_type": "code",
      "source": [
        "# Import data day.csv and hour.csv\n",
        "day_df = pd.read_csv(\"/data/day.csv\")\n",
        "day_df.head()"
      ],
      "metadata": {
        "colab": {
          "base_uri": "https://localhost:8080/",
          "height": 313
        },
        "id": "fRnLe-lOXfJ5",
        "outputId": "319c8a2a-f81b-4864-fd21-13b96e51a5fd"
      },
      "execution_count": 11,
      "outputs": [
        {
          "output_type": "execute_result",
          "data": {
            "text/plain": [
              "   instant      dteday  season  yr  mnth  holiday  weekday  workingday  \\\n",
              "0        1  2011-01-01       1   0     1        0        6           0   \n",
              "1        2  2011-01-02       1   0     1        0        0           0   \n",
              "2        3  2011-01-03       1   0     1        0        1           1   \n",
              "3        4  2011-01-04       1   0     1        0        2           1   \n",
              "4        5  2011-01-05       1   0     1        0        3           1   \n",
              "\n",
              "   weathersit      temp     atemp       hum  windspeed  casual  registered  \\\n",
              "0           2  0.344167  0.363625  0.805833   0.160446     331         654   \n",
              "1           2  0.363478  0.353739  0.696087   0.248539     131         670   \n",
              "2           1  0.196364  0.189405  0.437273   0.248309     120        1229   \n",
              "3           1  0.200000  0.212122  0.590435   0.160296     108        1454   \n",
              "4           1  0.226957  0.229270  0.436957   0.186900      82        1518   \n",
              "\n",
              "    cnt  \n",
              "0   985  \n",
              "1   801  \n",
              "2  1349  \n",
              "3  1562  \n",
              "4  1600  "
            ],
            "text/html": [
              "\n",
              "  <div id=\"df-9c5bceeb-6969-4441-b7ea-cd3fe918f49b\" class=\"colab-df-container\">\n",
              "    <div>\n",
              "<style scoped>\n",
              "    .dataframe tbody tr th:only-of-type {\n",
              "        vertical-align: middle;\n",
              "    }\n",
              "\n",
              "    .dataframe tbody tr th {\n",
              "        vertical-align: top;\n",
              "    }\n",
              "\n",
              "    .dataframe thead th {\n",
              "        text-align: right;\n",
              "    }\n",
              "</style>\n",
              "<table border=\"1\" class=\"dataframe\">\n",
              "  <thead>\n",
              "    <tr style=\"text-align: right;\">\n",
              "      <th></th>\n",
              "      <th>instant</th>\n",
              "      <th>dteday</th>\n",
              "      <th>season</th>\n",
              "      <th>yr</th>\n",
              "      <th>mnth</th>\n",
              "      <th>holiday</th>\n",
              "      <th>weekday</th>\n",
              "      <th>workingday</th>\n",
              "      <th>weathersit</th>\n",
              "      <th>temp</th>\n",
              "      <th>atemp</th>\n",
              "      <th>hum</th>\n",
              "      <th>windspeed</th>\n",
              "      <th>casual</th>\n",
              "      <th>registered</th>\n",
              "      <th>cnt</th>\n",
              "    </tr>\n",
              "  </thead>\n",
              "  <tbody>\n",
              "    <tr>\n",
              "      <th>0</th>\n",
              "      <td>1</td>\n",
              "      <td>2011-01-01</td>\n",
              "      <td>1</td>\n",
              "      <td>0</td>\n",
              "      <td>1</td>\n",
              "      <td>0</td>\n",
              "      <td>6</td>\n",
              "      <td>0</td>\n",
              "      <td>2</td>\n",
              "      <td>0.344167</td>\n",
              "      <td>0.363625</td>\n",
              "      <td>0.805833</td>\n",
              "      <td>0.160446</td>\n",
              "      <td>331</td>\n",
              "      <td>654</td>\n",
              "      <td>985</td>\n",
              "    </tr>\n",
              "    <tr>\n",
              "      <th>1</th>\n",
              "      <td>2</td>\n",
              "      <td>2011-01-02</td>\n",
              "      <td>1</td>\n",
              "      <td>0</td>\n",
              "      <td>1</td>\n",
              "      <td>0</td>\n",
              "      <td>0</td>\n",
              "      <td>0</td>\n",
              "      <td>2</td>\n",
              "      <td>0.363478</td>\n",
              "      <td>0.353739</td>\n",
              "      <td>0.696087</td>\n",
              "      <td>0.248539</td>\n",
              "      <td>131</td>\n",
              "      <td>670</td>\n",
              "      <td>801</td>\n",
              "    </tr>\n",
              "    <tr>\n",
              "      <th>2</th>\n",
              "      <td>3</td>\n",
              "      <td>2011-01-03</td>\n",
              "      <td>1</td>\n",
              "      <td>0</td>\n",
              "      <td>1</td>\n",
              "      <td>0</td>\n",
              "      <td>1</td>\n",
              "      <td>1</td>\n",
              "      <td>1</td>\n",
              "      <td>0.196364</td>\n",
              "      <td>0.189405</td>\n",
              "      <td>0.437273</td>\n",
              "      <td>0.248309</td>\n",
              "      <td>120</td>\n",
              "      <td>1229</td>\n",
              "      <td>1349</td>\n",
              "    </tr>\n",
              "    <tr>\n",
              "      <th>3</th>\n",
              "      <td>4</td>\n",
              "      <td>2011-01-04</td>\n",
              "      <td>1</td>\n",
              "      <td>0</td>\n",
              "      <td>1</td>\n",
              "      <td>0</td>\n",
              "      <td>2</td>\n",
              "      <td>1</td>\n",
              "      <td>1</td>\n",
              "      <td>0.200000</td>\n",
              "      <td>0.212122</td>\n",
              "      <td>0.590435</td>\n",
              "      <td>0.160296</td>\n",
              "      <td>108</td>\n",
              "      <td>1454</td>\n",
              "      <td>1562</td>\n",
              "    </tr>\n",
              "    <tr>\n",
              "      <th>4</th>\n",
              "      <td>5</td>\n",
              "      <td>2011-01-05</td>\n",
              "      <td>1</td>\n",
              "      <td>0</td>\n",
              "      <td>1</td>\n",
              "      <td>0</td>\n",
              "      <td>3</td>\n",
              "      <td>1</td>\n",
              "      <td>1</td>\n",
              "      <td>0.226957</td>\n",
              "      <td>0.229270</td>\n",
              "      <td>0.436957</td>\n",
              "      <td>0.186900</td>\n",
              "      <td>82</td>\n",
              "      <td>1518</td>\n",
              "      <td>1600</td>\n",
              "    </tr>\n",
              "  </tbody>\n",
              "</table>\n",
              "</div>\n",
              "    <div class=\"colab-df-buttons\">\n",
              "\n",
              "  <div class=\"colab-df-container\">\n",
              "    <button class=\"colab-df-convert\" onclick=\"convertToInteractive('df-9c5bceeb-6969-4441-b7ea-cd3fe918f49b')\"\n",
              "            title=\"Convert this dataframe to an interactive table.\"\n",
              "            style=\"display:none;\">\n",
              "\n",
              "  <svg xmlns=\"http://www.w3.org/2000/svg\" height=\"24px\" viewBox=\"0 -960 960 960\">\n",
              "    <path d=\"M120-120v-720h720v720H120Zm60-500h600v-160H180v160Zm220 220h160v-160H400v160Zm0 220h160v-160H400v160ZM180-400h160v-160H180v160Zm440 0h160v-160H620v160ZM180-180h160v-160H180v160Zm440 0h160v-160H620v160Z\"/>\n",
              "  </svg>\n",
              "    </button>\n",
              "\n",
              "  <style>\n",
              "    .colab-df-container {\n",
              "      display:flex;\n",
              "      gap: 12px;\n",
              "    }\n",
              "\n",
              "    .colab-df-convert {\n",
              "      background-color: #E8F0FE;\n",
              "      border: none;\n",
              "      border-radius: 50%;\n",
              "      cursor: pointer;\n",
              "      display: none;\n",
              "      fill: #1967D2;\n",
              "      height: 32px;\n",
              "      padding: 0 0 0 0;\n",
              "      width: 32px;\n",
              "    }\n",
              "\n",
              "    .colab-df-convert:hover {\n",
              "      background-color: #E2EBFA;\n",
              "      box-shadow: 0px 1px 2px rgba(60, 64, 67, 0.3), 0px 1px 3px 1px rgba(60, 64, 67, 0.15);\n",
              "      fill: #174EA6;\n",
              "    }\n",
              "\n",
              "    .colab-df-buttons div {\n",
              "      margin-bottom: 4px;\n",
              "    }\n",
              "\n",
              "    [theme=dark] .colab-df-convert {\n",
              "      background-color: #3B4455;\n",
              "      fill: #D2E3FC;\n",
              "    }\n",
              "\n",
              "    [theme=dark] .colab-df-convert:hover {\n",
              "      background-color: #434B5C;\n",
              "      box-shadow: 0px 1px 3px 1px rgba(0, 0, 0, 0.15);\n",
              "      filter: drop-shadow(0px 1px 2px rgba(0, 0, 0, 0.3));\n",
              "      fill: #FFFFFF;\n",
              "    }\n",
              "  </style>\n",
              "\n",
              "    <script>\n",
              "      const buttonEl =\n",
              "        document.querySelector('#df-9c5bceeb-6969-4441-b7ea-cd3fe918f49b button.colab-df-convert');\n",
              "      buttonEl.style.display =\n",
              "        google.colab.kernel.accessAllowed ? 'block' : 'none';\n",
              "\n",
              "      async function convertToInteractive(key) {\n",
              "        const element = document.querySelector('#df-9c5bceeb-6969-4441-b7ea-cd3fe918f49b');\n",
              "        const dataTable =\n",
              "          await google.colab.kernel.invokeFunction('convertToInteractive',\n",
              "                                                    [key], {});\n",
              "        if (!dataTable) return;\n",
              "\n",
              "        const docLinkHtml = 'Like what you see? Visit the ' +\n",
              "          '<a target=\"_blank\" href=https://colab.research.google.com/notebooks/data_table.ipynb>data table notebook</a>'\n",
              "          + ' to learn more about interactive tables.';\n",
              "        element.innerHTML = '';\n",
              "        dataTable['output_type'] = 'display_data';\n",
              "        await google.colab.output.renderOutput(dataTable, element);\n",
              "        const docLink = document.createElement('div');\n",
              "        docLink.innerHTML = docLinkHtml;\n",
              "        element.appendChild(docLink);\n",
              "      }\n",
              "    </script>\n",
              "  </div>\n",
              "\n",
              "\n",
              "<div id=\"df-f22587d0-1119-4167-9ec8-5ddb9db84613\">\n",
              "  <button class=\"colab-df-quickchart\" onclick=\"quickchart('df-f22587d0-1119-4167-9ec8-5ddb9db84613')\"\n",
              "            title=\"Suggest charts\"\n",
              "            style=\"display:none;\">\n",
              "\n",
              "<svg xmlns=\"http://www.w3.org/2000/svg\" height=\"24px\"viewBox=\"0 0 24 24\"\n",
              "     width=\"24px\">\n",
              "    <g>\n",
              "        <path d=\"M19 3H5c-1.1 0-2 .9-2 2v14c0 1.1.9 2 2 2h14c1.1 0 2-.9 2-2V5c0-1.1-.9-2-2-2zM9 17H7v-7h2v7zm4 0h-2V7h2v10zm4 0h-2v-4h2v4z\"/>\n",
              "    </g>\n",
              "</svg>\n",
              "  </button>\n",
              "\n",
              "<style>\n",
              "  .colab-df-quickchart {\n",
              "      --bg-color: #E8F0FE;\n",
              "      --fill-color: #1967D2;\n",
              "      --hover-bg-color: #E2EBFA;\n",
              "      --hover-fill-color: #174EA6;\n",
              "      --disabled-fill-color: #AAA;\n",
              "      --disabled-bg-color: #DDD;\n",
              "  }\n",
              "\n",
              "  [theme=dark] .colab-df-quickchart {\n",
              "      --bg-color: #3B4455;\n",
              "      --fill-color: #D2E3FC;\n",
              "      --hover-bg-color: #434B5C;\n",
              "      --hover-fill-color: #FFFFFF;\n",
              "      --disabled-bg-color: #3B4455;\n",
              "      --disabled-fill-color: #666;\n",
              "  }\n",
              "\n",
              "  .colab-df-quickchart {\n",
              "    background-color: var(--bg-color);\n",
              "    border: none;\n",
              "    border-radius: 50%;\n",
              "    cursor: pointer;\n",
              "    display: none;\n",
              "    fill: var(--fill-color);\n",
              "    height: 32px;\n",
              "    padding: 0;\n",
              "    width: 32px;\n",
              "  }\n",
              "\n",
              "  .colab-df-quickchart:hover {\n",
              "    background-color: var(--hover-bg-color);\n",
              "    box-shadow: 0 1px 2px rgba(60, 64, 67, 0.3), 0 1px 3px 1px rgba(60, 64, 67, 0.15);\n",
              "    fill: var(--button-hover-fill-color);\n",
              "  }\n",
              "\n",
              "  .colab-df-quickchart-complete:disabled,\n",
              "  .colab-df-quickchart-complete:disabled:hover {\n",
              "    background-color: var(--disabled-bg-color);\n",
              "    fill: var(--disabled-fill-color);\n",
              "    box-shadow: none;\n",
              "  }\n",
              "\n",
              "  .colab-df-spinner {\n",
              "    border: 2px solid var(--fill-color);\n",
              "    border-color: transparent;\n",
              "    border-bottom-color: var(--fill-color);\n",
              "    animation:\n",
              "      spin 1s steps(1) infinite;\n",
              "  }\n",
              "\n",
              "  @keyframes spin {\n",
              "    0% {\n",
              "      border-color: transparent;\n",
              "      border-bottom-color: var(--fill-color);\n",
              "      border-left-color: var(--fill-color);\n",
              "    }\n",
              "    20% {\n",
              "      border-color: transparent;\n",
              "      border-left-color: var(--fill-color);\n",
              "      border-top-color: var(--fill-color);\n",
              "    }\n",
              "    30% {\n",
              "      border-color: transparent;\n",
              "      border-left-color: var(--fill-color);\n",
              "      border-top-color: var(--fill-color);\n",
              "      border-right-color: var(--fill-color);\n",
              "    }\n",
              "    40% {\n",
              "      border-color: transparent;\n",
              "      border-right-color: var(--fill-color);\n",
              "      border-top-color: var(--fill-color);\n",
              "    }\n",
              "    60% {\n",
              "      border-color: transparent;\n",
              "      border-right-color: var(--fill-color);\n",
              "    }\n",
              "    80% {\n",
              "      border-color: transparent;\n",
              "      border-right-color: var(--fill-color);\n",
              "      border-bottom-color: var(--fill-color);\n",
              "    }\n",
              "    90% {\n",
              "      border-color: transparent;\n",
              "      border-bottom-color: var(--fill-color);\n",
              "    }\n",
              "  }\n",
              "</style>\n",
              "\n",
              "  <script>\n",
              "    async function quickchart(key) {\n",
              "      const quickchartButtonEl =\n",
              "        document.querySelector('#' + key + ' button');\n",
              "      quickchartButtonEl.disabled = true;  // To prevent multiple clicks.\n",
              "      quickchartButtonEl.classList.add('colab-df-spinner');\n",
              "      try {\n",
              "        const charts = await google.colab.kernel.invokeFunction(\n",
              "            'suggestCharts', [key], {});\n",
              "      } catch (error) {\n",
              "        console.error('Error during call to suggestCharts:', error);\n",
              "      }\n",
              "      quickchartButtonEl.classList.remove('colab-df-spinner');\n",
              "      quickchartButtonEl.classList.add('colab-df-quickchart-complete');\n",
              "    }\n",
              "    (() => {\n",
              "      let quickchartButtonEl =\n",
              "        document.querySelector('#df-f22587d0-1119-4167-9ec8-5ddb9db84613 button');\n",
              "      quickchartButtonEl.style.display =\n",
              "        google.colab.kernel.accessAllowed ? 'block' : 'none';\n",
              "    })();\n",
              "  </script>\n",
              "</div>\n",
              "\n",
              "    </div>\n",
              "  </div>\n"
            ],
            "application/vnd.google.colaboratory.intrinsic+json": {
              "type": "dataframe",
              "variable_name": "day_df",
              "summary": "{\n  \"name\": \"day_df\",\n  \"rows\": 731,\n  \"fields\": [\n    {\n      \"column\": \"instant\",\n      \"properties\": {\n        \"dtype\": \"number\",\n        \"std\": 211,\n        \"min\": 1,\n        \"max\": 731,\n        \"num_unique_values\": 731,\n        \"samples\": [\n          704,\n          34,\n          301\n        ],\n        \"semantic_type\": \"\",\n        \"description\": \"\"\n      }\n    },\n    {\n      \"column\": \"dteday\",\n      \"properties\": {\n        \"dtype\": \"object\",\n        \"num_unique_values\": 731,\n        \"samples\": [\n          \"2012-12-04\",\n          \"2011-02-03\",\n          \"2011-10-28\"\n        ],\n        \"semantic_type\": \"\",\n        \"description\": \"\"\n      }\n    },\n    {\n      \"column\": \"season\",\n      \"properties\": {\n        \"dtype\": \"number\",\n        \"std\": 1,\n        \"min\": 1,\n        \"max\": 4,\n        \"num_unique_values\": 4,\n        \"samples\": [\n          2,\n          4,\n          1\n        ],\n        \"semantic_type\": \"\",\n        \"description\": \"\"\n      }\n    },\n    {\n      \"column\": \"yr\",\n      \"properties\": {\n        \"dtype\": \"number\",\n        \"std\": 0,\n        \"min\": 0,\n        \"max\": 1,\n        \"num_unique_values\": 2,\n        \"samples\": [\n          1,\n          0\n        ],\n        \"semantic_type\": \"\",\n        \"description\": \"\"\n      }\n    },\n    {\n      \"column\": \"mnth\",\n      \"properties\": {\n        \"dtype\": \"number\",\n        \"std\": 3,\n        \"min\": 1,\n        \"max\": 12,\n        \"num_unique_values\": 12,\n        \"samples\": [\n          11,\n          10\n        ],\n        \"semantic_type\": \"\",\n        \"description\": \"\"\n      }\n    },\n    {\n      \"column\": \"holiday\",\n      \"properties\": {\n        \"dtype\": \"number\",\n        \"std\": 0,\n        \"min\": 0,\n        \"max\": 1,\n        \"num_unique_values\": 2,\n        \"samples\": [\n          1,\n          0\n        ],\n        \"semantic_type\": \"\",\n        \"description\": \"\"\n      }\n    },\n    {\n      \"column\": \"weekday\",\n      \"properties\": {\n        \"dtype\": \"number\",\n        \"std\": 2,\n        \"min\": 0,\n        \"max\": 6,\n        \"num_unique_values\": 7,\n        \"samples\": [\n          6,\n          0\n        ],\n        \"semantic_type\": \"\",\n        \"description\": \"\"\n      }\n    },\n    {\n      \"column\": \"workingday\",\n      \"properties\": {\n        \"dtype\": \"number\",\n        \"std\": 0,\n        \"min\": 0,\n        \"max\": 1,\n        \"num_unique_values\": 2,\n        \"samples\": [\n          1,\n          0\n        ],\n        \"semantic_type\": \"\",\n        \"description\": \"\"\n      }\n    },\n    {\n      \"column\": \"weathersit\",\n      \"properties\": {\n        \"dtype\": \"number\",\n        \"std\": 0,\n        \"min\": 1,\n        \"max\": 3,\n        \"num_unique_values\": 3,\n        \"samples\": [\n          2,\n          1\n        ],\n        \"semantic_type\": \"\",\n        \"description\": \"\"\n      }\n    },\n    {\n      \"column\": \"temp\",\n      \"properties\": {\n        \"dtype\": \"number\",\n        \"std\": 0.18305099611148867,\n        \"min\": 0.0591304,\n        \"max\": 0.861667,\n        \"num_unique_values\": 499,\n        \"samples\": [\n          0.544167,\n          0.430435\n        ],\n        \"semantic_type\": \"\",\n        \"description\": \"\"\n      }\n    },\n    {\n      \"column\": \"atemp\",\n      \"properties\": {\n        \"dtype\": \"number\",\n        \"std\": 0.16296117838631127,\n        \"min\": 0.0790696,\n        \"max\": 0.840896,\n        \"num_unique_values\": 690,\n        \"samples\": [\n          0.463375,\n          0.599754\n        ],\n        \"semantic_type\": \"\",\n        \"description\": \"\"\n      }\n    },\n    {\n      \"column\": \"hum\",\n      \"properties\": {\n        \"dtype\": \"number\",\n        \"std\": 0.14242909513835394,\n        \"min\": 0.0,\n        \"max\": 0.9725,\n        \"num_unique_values\": 595,\n        \"samples\": [\n          0.707083,\n          0.718333\n        ],\n        \"semantic_type\": \"\",\n        \"description\": \"\"\n      }\n    },\n    {\n      \"column\": \"windspeed\",\n      \"properties\": {\n        \"dtype\": \"number\",\n        \"std\": 0.07749787068166943,\n        \"min\": 0.0223917,\n        \"max\": 0.507463,\n        \"num_unique_values\": 650,\n        \"samples\": [\n          0.100742,\n          0.139308\n        ],\n        \"semantic_type\": \"\",\n        \"description\": \"\"\n      }\n    },\n    {\n      \"column\": \"casual\",\n      \"properties\": {\n        \"dtype\": \"number\",\n        \"std\": 686,\n        \"min\": 2,\n        \"max\": 3410,\n        \"num_unique_values\": 606,\n        \"samples\": [\n          709,\n          449\n        ],\n        \"semantic_type\": \"\",\n        \"description\": \"\"\n      }\n    },\n    {\n      \"column\": \"registered\",\n      \"properties\": {\n        \"dtype\": \"number\",\n        \"std\": 1560,\n        \"min\": 20,\n        \"max\": 6946,\n        \"num_unique_values\": 679,\n        \"samples\": [\n          4531,\n          2553\n        ],\n        \"semantic_type\": \"\",\n        \"description\": \"\"\n      }\n    },\n    {\n      \"column\": \"cnt\",\n      \"properties\": {\n        \"dtype\": \"number\",\n        \"std\": 1937,\n        \"min\": 22,\n        \"max\": 8714,\n        \"num_unique_values\": 696,\n        \"samples\": [\n          5170,\n          1607\n        ],\n        \"semantic_type\": \"\",\n        \"description\": \"\"\n      }\n    }\n  ]\n}"
            }
          },
          "metadata": {},
          "execution_count": 11
        }
      ]
    },
    {
      "cell_type": "code",
      "source": [
        "hour_df = pd.read_csv(\"/data/hour.csv\")\n",
        "hour_df.head()"
      ],
      "metadata": {
        "id": "GDWtEEhk7CfQ"
      },
      "execution_count": null,
      "outputs": []
    },
    {
      "cell_type": "code",
      "source": [
        "day_df.sample(50)\n"
      ],
      "metadata": {
        "id": "j8p9WnQk7Iwu"
      },
      "execution_count": null,
      "outputs": []
    },
    {
      "cell_type": "markdown",
      "metadata": {
        "id": "FHSiqaZp8DC1"
      },
      "source": [
        "### Assessing Data"
      ]
    },
    {
      "cell_type": "markdown",
      "source": [
        "Setelah semua data yang dibutuhkan terkumpul, proses selanjutnya ialah penilaian terhadap data tersebut. Proses ini dilakukan untuk menilai kualitas dan struktur dari sebuah data. Selain itu, proses ini juga bertujuan untuk mengidentifikasi berbagai masalah yang terdapat dalam data, seperti missing value, unstandard value, dll."
      ],
      "metadata": {
        "id": "dfEP8Q6Ib20b"
      }
    },
    {
      "cell_type": "markdown",
      "source": [
        "**Mengecek Informasi data day_df**"
      ],
      "metadata": {
        "id": "OTc2nVt_cDz0"
      }
    },
    {
      "cell_type": "code",
      "source": [
        "day_df.info()"
      ],
      "metadata": {
        "id": "ax-3tEjc9Cj1"
      },
      "execution_count": null,
      "outputs": []
    },
    {
      "cell_type": "markdown",
      "source": [
        "**Mengecek Informasi data hour_df**"
      ],
      "metadata": {
        "id": "6g1yvogdgtu3"
      }
    },
    {
      "cell_type": "code",
      "source": [
        "hour_df.info()"
      ],
      "metadata": {
        "id": "lJfuz9tsg14u"
      },
      "execution_count": null,
      "outputs": []
    },
    {
      "cell_type": "markdown",
      "source": [
        "**Mengecek shape data day_df**"
      ],
      "metadata": {
        "id": "87u4BlmHcaau"
      }
    },
    {
      "cell_type": "code",
      "source": [
        "day_df.shape"
      ],
      "metadata": {
        "id": "0CNwJkeQcfk2"
      },
      "execution_count": null,
      "outputs": []
    },
    {
      "cell_type": "markdown",
      "source": [
        "**Mengecek shape data hour_df**"
      ],
      "metadata": {
        "id": "2wTuR3nqg5vv"
      }
    },
    {
      "cell_type": "code",
      "source": [
        "hour_df.shape"
      ],
      "metadata": {
        "id": "9oM5cUA6hSIB"
      },
      "execution_count": null,
      "outputs": []
    },
    {
      "cell_type": "markdown",
      "source": [
        "**Melihat statistik deskriptif data day_df**"
      ],
      "metadata": {
        "id": "BW7oIQd-ejz7"
      }
    },
    {
      "cell_type": "code",
      "source": [
        "day_df.describe()"
      ],
      "metadata": {
        "id": "jQpek56VesFk"
      },
      "execution_count": null,
      "outputs": []
    },
    {
      "cell_type": "markdown",
      "source": [
        "**Melihat statistik deskriptif data hour_df**"
      ],
      "metadata": {
        "id": "Lg8RyKPJhVIB"
      }
    },
    {
      "cell_type": "code",
      "source": [
        "hour_df.describe()"
      ],
      "metadata": {
        "id": "ykikh3P_hcMx"
      },
      "execution_count": null,
      "outputs": []
    },
    {
      "cell_type": "markdown",
      "source": [
        "**Mengecek missing value dan duplikasi data day_df**"
      ],
      "metadata": {
        "id": "_n4B_fHfe28L"
      }
    },
    {
      "cell_type": "code",
      "source": [
        "# Mengecek missing value pada day_df\n",
        "print(\"missing value : \\n\",day_df.isnull().sum())\n",
        "\n",
        "# Mengecek duplikasi data pada day_df\n",
        "print(\"duplikasi data : \",day_df.duplicated().sum())"
      ],
      "metadata": {
        "id": "pR47VHyxfIjF"
      },
      "execution_count": null,
      "outputs": []
    },
    {
      "cell_type": "markdown",
      "source": [
        "**Mengecek missing value dan duplikasi hour_df**"
      ],
      "metadata": {
        "id": "tOhDpWy2h-1k"
      }
    },
    {
      "cell_type": "code",
      "source": [
        "# Mengecek missing value pada hour_df\n",
        "print(\"missing value : \\n\",hour_df.isnull().sum())\n",
        "\n",
        "# Mengecek duplikasi data pada hour_df\n",
        "print(\"duplikasi data : \",hour_df.duplicated().sum())"
      ],
      "metadata": {
        "id": "NnFAOvWViOV0"
      },
      "execution_count": null,
      "outputs": []
    },
    {
      "cell_type": "markdown",
      "metadata": {
        "id": "EhN5R4hr8DC1"
      },
      "source": [
        "### Cleaning Data"
      ]
    },
    {
      "cell_type": "code",
      "source": [
        "# Berdasarkan hasil assessing data, tidak ditemukan missing value dan duplikasi data pada kedua dataset.\n",
        "# Namun, perlu dilakukan beberapa langkah cleaning data:\n",
        "\n",
        "# Mengubah tipe data kolom 'dteday' menjadi datetime pada kedua dataset.\n",
        "day_df['dteday'] = pd.to_datetime(day_df['dteday'])\n",
        "hour_df['dteday'] = pd.to_datetime(hour_df['dteday'])\n",
        "\n",
        "# Mengganti angka menjadi keterangan pada kolom 'season' di day_df\n",
        "day_df['season'] = day_df['season'].map({    1: 'Spring',    2: 'Summer',    3: 'Fall',    4: 'Winter'})\n",
        "\n",
        "# Mengganti angka menjadi keterangan pada kolom 'season' di hour_df\n",
        "hour_df['season'] = hour_df['season'].map({    1: 'Spring',    2: 'Summer',    3: 'Fall',  4: 'Winter'})\n",
        "# Mengganti angka menjadi keterangan pada kolom 'weekday' di day_df\n",
        "day_df['weekday'] = day_df['weekday'].map({    0: 'Sunday', 1: 'Monday', 2: 'Tuesday', 3: 'Wednesday',4: 'Thursday', 5: 'Friday', 6: 'Saturday'})\n",
        "\n",
        "# Mengganti angka menjadi keterangan pada kolom 'weekday' di hour_df\n",
        "hour_df['weekday'] = hour_df['weekday'].map({ 0: 'Sunday', 1: 'Monday', 2: 'Tuesday', 3: 'Wednesday', 4: 'Thursday', 5: 'Friday', 6: 'Saturday'})\n",
        "# Mengganti angka menjadi keterangan pada kolom 'weathersit' di day_df\n",
        "day_df['weathersit'] = day_df['weathersit'].map({ 1: 'Clear', 2: 'Mist', 3: 'Light Snow/Rain', 4: 'Heavy Rain/Snow'})\n",
        "\n",
        "# Mengganti angka menjadi keterangan pada kolom 'weathersit' di hour_df\n",
        "hour_df['weathersit'] = hour_df['weathersit'].map({ 1: 'Clear', 2: 'Mist', 3: 'Light Snow/Rain', 4: 'Heavy Rain/Snow'})\n",
        "\n",
        "# Mengganti angka menjadi keterangan pada kolom 'year' di day_df\n",
        "day_df['yr'] = day_df['yr'].map({ 0: '2011', 1: '2012'})\n",
        "\n",
        "# Mengganti angka menjadi keterangan pada kolom 'year' di hour_df\n",
        "hour_df['yr'] = hour_df['yr'].map({ 0: '2011', 1: '2012'})\n",
        "\n",
        "# Mengganti angka menjadi keterangan pada kolom 'month' di day_df\n",
        "day_df['mnth'] = day_df['mnth'].map({  1: 'January', 2: 'February', 3: 'March', 4: 'April', 5: 'May', 6: 'June',7: 'July',  8: 'August', 9: 'September', 10: 'October', 11: 'November',  12: 'December'})\n",
        "\n",
        "# Mengganti angka menjadi keterangan pada kolom 'month' di hour_df\n",
        "hour_df['mnth'] = hour_df['mnth'].map({ 1: 'January', 2: 'February',3: 'March',4: 'April',5: 'May',6: 'June',7: 'July',8: 'August',9: 'September',10: 'October',11: 'November',12: 'December'})\n",
        "\n",
        "# Mengganti 'workingday' menjadi 'hari kerja' dan 'hari libur' di day_df\n",
        "day_df['workingday'] = day_df['workingday'].map({0: 'hari libur/weekend', 1: 'hari kerja'})\n",
        "\n",
        "# Mengganti 'workingday' menjadi 'hari kerja' dan 'hari libur' di hour_df\n",
        "hour_df['workingday'] = hour_df['workingday'].map({0: 'hari libur/weekend', 1: 'hari kerja'})\n",
        "\n",
        "# Mengganti 'holiday' menjadi 'libur' dan 'tidak libur' di day_df\n",
        "day_df['holiday'] = day_df['holiday'].map({0: 'tidak libur', 1: 'libur'})\n",
        "\n",
        "# Mengganti 'holiday' menjadi 'libur' dan 'tidak libur' di hour_df\n",
        "hour_df['holiday'] = hour_df['holiday'].map({0: 'tidak libur', 1: 'libur'})"
      ],
      "metadata": {
        "id": "Xhb1BwRBywnE"
      },
      "execution_count": null,
      "outputs": []
    },
    {
      "cell_type": "markdown",
      "source": [],
      "metadata": {
        "id": "Q_5ejIqckiSP"
      }
    },
    {
      "cell_type": "markdown",
      "metadata": {
        "id": "gp-Y6wU38DC1"
      },
      "source": [
        "## Exploratory Data Analysis (EDA)"
      ]
    },
    {
      "cell_type": "code",
      "source": [
        "day_df.describe(include='all')\n"
      ],
      "metadata": {
        "id": "t81XhEzqooB1"
      },
      "execution_count": null,
      "outputs": []
    },
    {
      "cell_type": "code",
      "source": [
        "hour_df.describe(include='all')"
      ],
      "metadata": {
        "id": "URsMWkygpR8_"
      },
      "execution_count": null,
      "outputs": []
    },
    {
      "cell_type": "code",
      "source": [
        "# Group by month and sort by month order\n",
        "monthly_data = day_df.groupby('mnth').agg({'cnt': ['min', 'max','mean','sum']})\n",
        "\n",
        "# Define the order of months\n",
        "month_order = ['January', 'February', 'March', 'April', 'May', 'June',\n",
        "              'July', 'August', 'September', 'October', 'November', 'December']\n",
        "\n",
        "# Sort the data by month order\n",
        "monthly_data = monthly_data.reindex(month_order)\n",
        "\n",
        "monthly_data"
      ],
      "metadata": {
        "id": "WThY-CivsOzm"
      },
      "execution_count": null,
      "outputs": []
    },
    {
      "cell_type": "markdown",
      "source": [
        "Berdasarkan output diatas dapat disimpulkan bahwa pada tahun 2011 hingga 2012, rata rata peminjaman sepeda **tertinggi** ada pada bulan **Januari** dan **terendah** pada bulan **September**."
      ],
      "metadata": {
        "id": "lXj-rGlksUWW"
      }
    },
    {
      "cell_type": "code",
      "source": [
        "day_df.groupby(by=\"season\").agg({\n",
        "    \"cnt\": [\"max\", \"min\", \"mean\", \"sum\"]\n",
        "})"
      ],
      "metadata": {
        "id": "kKJ8i9bbszKv"
      },
      "execution_count": null,
      "outputs": []
    },
    {
      "cell_type": "markdown",
      "source": [
        "Berdasarkan data diatas dapat disimpulkan baha pada tahun 2011 hingga 2012, rata rata peminjamban sepeda **tertinggi** ada pada **musim Gugur** dan **terendah** pada **musim Semi**"
      ],
      "metadata": {
        "id": "4phVd-HZuUc6"
      }
    },
    {
      "cell_type": "code",
      "source": [
        "hour_df.groupby(by=\"weathersit\").agg({\n",
        "    \"cnt\": [\"max\", \"min\", \"mean\", \"sum\"]\n",
        "})"
      ],
      "metadata": {
        "id": "pQ5vmwuRuqTV"
      },
      "execution_count": null,
      "outputs": []
    },
    {
      "cell_type": "markdown",
      "source": [
        "Berdasarkan data diatas dapat disimpulkan baha pada tahun 2011 hingga 2012, rata rata peminjaman sepeda **tertinggi** ada pada cuaca **cerah** dan **terendah** pada cuaca **hujan lebat**"
      ],
      "metadata": {
        "id": "uN13MWQeu_u0"
      }
    },
    {
      "cell_type": "code",
      "source": [
        "hour_df.groupby(by=\"hr\").agg({\n",
        "    \"cnt\": [\"max\", \"min\", \"mean\", \"sum\"]\n",
        "})"
      ],
      "metadata": {
        "id": "co6Ev6uCvQ92"
      },
      "execution_count": null,
      "outputs": []
    },
    {
      "cell_type": "markdown",
      "source": [
        "Berdasarkan data diatas dapat disimpulkan baha pada tahun 2011 hingga 2012, rata rata peminjaman sepeda tertinggi ada pada jam 17.00 - 18.00 dan terendah pada jam 04.00 - 05.00"
      ],
      "metadata": {
        "id": "oqIxbVdmygyB"
      }
    },
    {
      "cell_type": "markdown",
      "metadata": {
        "id": "zsyZjqak8DC2"
      },
      "source": [
        "## Visualization & Explanatory Analysis"
      ]
    },
    {
      "cell_type": "markdown",
      "metadata": {
        "id": "HZxOiQ6n8DC2"
      },
      "source": [
        "### Pertanyaan 1:"
      ]
    },
    {
      "cell_type": "markdown",
      "source": [
        "**Bagaimana pola penggunaan sepeda pada hari kerja dibandingkan akhir pekan atau hari libur?**"
      ],
      "metadata": {
        "id": "hm_mzzRr7QOZ"
      }
    },
    {
      "cell_type": "code",
      "source": [
        "# prompt: buat diagram batang working day dan cnt dan tampilin nilai, hilagin garis diatas\n",
        "\n",
        "plt.figure(figsize=(10, 6))\n",
        "sns.barplot(x='workingday', y='cnt', data=day_df,errorbar=None)  # ci=None removes the error bars\n",
        "plt.xlabel('Working Day')\n",
        "plt.ylabel('Count')\n",
        "plt.title('Jumlah Peminjaman Sepeda Berdasarkan Hari Kerja')\n",
        "\n",
        "# Menambahkan nilai pada setiap bar\n",
        "for p in plt.gca().patches:\n",
        "    plt.gca().annotate(format(p.get_height(), '.0f'),\n",
        "                   (p.get_x() + p.get_width() / 2., p.get_height()),\n",
        "                   ha = 'center', va = 'center',\n",
        "                   xytext = (0, 10),\n",
        "                   textcoords = 'offset points')\n",
        "\n",
        "plt.show()\n",
        "# prompt: buat diagram batang working day dan cnt dan tampilin nilai, hilagin garis diatas\n",
        "\n",
        "plt.figure(figsize=(10, 6))\n",
        "sns.barplot(x='holiday', y='cnt', data=day_df,errorbar=None )  # ci=None removes the error bars\n",
        "plt.xlabel('Holiday')\n",
        "plt.ylabel('Count')\n",
        "plt.title('Jumlah Peminjaman Sepeda Berdasarkan Hari Libur')\n",
        "\n",
        "# Menambahkan nilai pada setiap bar\n",
        "for p in plt.gca().patches:\n",
        "    plt.gca().annotate(format(p.get_height(), '.0f'),\n",
        "                   (p.get_x() + p.get_width() / 2., p.get_height()),\n",
        "                   ha = 'center', va = 'center',\n",
        "                   xytext = (0, 10),\n",
        "                   textcoords = 'offset points')\n",
        "\n",
        "plt.show()"
      ],
      "metadata": {
        "id": "4GWXx2SjcJWl"
      },
      "execution_count": null,
      "outputs": []
    },
    {
      "cell_type": "markdown",
      "source": [
        "Berdasarkan visualisasi data menggunakan barplot di atas, dapat disimpulkan sebagai berikut:\n",
        "\n",
        "Jumlah pengguna sepeda pada hari kerja (Senin-Jumat) lebih banyak dari hari weekend (Sabtu dan Minggu)\n",
        "\n",
        "Jumlah pengguna sepeda pada hari libur nasional lebih sedikit dari hari biasa.\n"
      ],
      "metadata": {
        "id": "vF621W4WZw91"
      }
    },
    {
      "cell_type": "markdown",
      "metadata": {
        "id": "DgHI7CiU8DC2"
      },
      "source": [
        "### Pertanyaan 2:"
      ]
    },
    {
      "cell_type": "markdown",
      "source": [
        "**Apakah terdapat perbedaan signifikan dalam jumlah penyewaan sepeda antara pengguna kasual dan terdaftar?**"
      ],
      "metadata": {
        "id": "dUohYI78eFXw"
      }
    },
    {
      "cell_type": "code",
      "source": [
        "# prompt: bandingkan penggunaan casual dan register secara persentase buat diagram  lingkaran\n",
        "\n",
        "# Hitung persentase pengguna casual dan registered\n",
        "total_users = hour_df['casual'].sum() + hour_df['registered'].sum()\n",
        "casual_percentage = (hour_df['casual'].sum() / total_users) * 100\n",
        "registered_percentage = (hour_df['registered'].sum() / total_users) * 100\n",
        "\n",
        "# Buat diagram lingkaran\n",
        "labels = ['Casual', 'Registered']\n",
        "sizes = [casual_percentage, registered_percentage]\n",
        "colors = ['lightcoral', 'lightskyblue']\n",
        "explode = (0.1, 0)  # Pisahkan sedikit bagian 'Casual'\n",
        "\n",
        "plt.figure(figsize=(6, 6))\n",
        "plt.pie(sizes, explode=explode, labels=labels, colors=colors, autopct='%1.1f%%', shadow=True, startangle=140)\n",
        "plt.title('Persentase Penggunaan Sepeda Berdasarkan Tipe Pengguna')\n",
        "plt.axis('equal')  # Pastikan lingkaran terlihat bulat\n",
        "plt.show()"
      ],
      "metadata": {
        "id": "jsbNpQxaoYTN"
      },
      "execution_count": null,
      "outputs": []
    },
    {
      "cell_type": "markdown",
      "source": [
        "Diagram ini menunjukkan bahwa pengguna terdaftar jauh lebih banyak (81,2%) dibandingkan dengan pengguna kasual (18,8%). Ini mengindikasikan bahwa program penyewaan sepeda telah berhasil menarik minat pengguna untuk berlangganan secara reguler.\n"
      ],
      "metadata": {
        "id": "ecSHKtELoP0Y"
      }
    },
    {
      "cell_type": "markdown",
      "source": [
        "### Pertanyaan 3:"
      ],
      "metadata": {
        "id": "782XmpLuaUYN"
      }
    },
    {
      "cell_type": "markdown",
      "metadata": {
        "id": "bIwVHcqJo-WA"
      },
      "source": [
        "**3. Bagaimana peristiwa atau anomali cuaca ekstrem mempengaruhi jumlah penyewaan sepeda?**"
      ]
    },
    {
      "cell_type": "code",
      "source": [
        "plt.figure(figsize=(10, 6))\n",
        "sns.barplot(x='weathersit', y='cnt',hue='weathersit', data=hour_df, estimator=sum, errorbar=None, palette='Set2')\n",
        "plt.xlabel('Kondisi Cuaca')\n",
        "plt.ylabel('Total Penggunaan Sepeda')\n",
        "plt.title('Total Penggunaan Sepeda Berdasarkan Kondisi Cuaca')\n",
        "\n",
        "# Menambahkan nilai pada setiap bar\n",
        "for p in plt.gca().patches:\n",
        "    plt.gca().annotate(format(p.get_height(), '.0f'),\n",
        "                   (p.get_x() + p.get_width() / 2., p.get_height()),\n",
        "                   ha = 'center', va = 'center',\n",
        "                   xytext = (0, 10),\n",
        "                   textcoords = 'offset points')\n",
        "\n",
        "plt.show()"
      ],
      "metadata": {
        "id": "hQ6X1wbgxFuE"
      },
      "execution_count": null,
      "outputs": []
    },
    {
      "cell_type": "markdown",
      "source": [
        "Diagram ini menunjukkan bahwa jumlah total penggunaan sepeda paling tinggi pada cuaca cerah, dan paling rendah pada cuaca hujan lebat/salju. Ini menunjukkan bahwa cuaca memiliki pengaruh yang signifikan terhadap minat masyarakat untuk menggunakan sepeda. Ketika cuaca buruk, seperti hujan lebat atau salju, masyarakat cenderung lebih memilih menggunakan transportasi lain yang lebih terlindungi dari cuaca ekstrem."
      ],
      "metadata": {
        "id": "1Jhh5suovRXT"
      }
    },
    {
      "cell_type": "markdown",
      "source": [
        "### Pertanyaan 4:"
      ],
      "metadata": {
        "id": "8g6R0zc7aZMp"
      }
    },
    {
      "cell_type": "markdown",
      "source": [
        "**Apakah ada tren musiman yang konsisten dalam penggunaan sepeda sepanjang tahun?**"
      ],
      "metadata": {
        "id": "C6dqVGUw67Wq"
      }
    },
    {
      "cell_type": "code",
      "source": [
        "# Membuat variabel baru berisi bulan dan tahun lalu\n",
        "day_df['year_month'] = day_df['dteday'].dt.strftime('%Y-%m')\n",
        "\n",
        "# Mengelompokkan data berdasarkan bulan dan tahun, kemudian menghitung jumlah penyewaan sepeda\n",
        "monthly_trend = day_df.groupby('year_month')['cnt'].sum()\n",
        "\n",
        "# Membuat plot tren bulanan\n",
        "plt.figure(figsize=(12, 6))\n",
        "plt.plot(monthly_trend.index, monthly_trend.values)\n",
        "plt.xlabel('Bulan dan Tahun')\n",
        "plt.ylabel('Jumlah Penyewaan Sepeda')\n",
        "plt.title('Tren Bulanan Penyewaan Sepeda')\n",
        "plt.xticks(rotation=45)\n",
        "plt.grid(True)\n",
        "plt.show()\n"
      ],
      "metadata": {
        "id": "57JeyF5B67zI"
      },
      "execution_count": null,
      "outputs": []
    },
    {
      "cell_type": "markdown",
      "source": [
        "Secara umum, terdapat tren peningkatan jumlah penyewaan sepeda dari tahun 2011 hingga 2012. Ini menunjukkan bahwa popularitas penggunaan sepeda terus meningkat selama periode tersebut.\n",
        "\n",
        "Selain tren keseluruhan, terdapat beberapa fluktuasi yang signifikan dalam jumlah penyewaan sepeda sepanjang tahun.  Pada beberapa bulan,pada bulan Mei - Oktober, jumlah penyewaan cenderung lebih tinggi dibandingkan dengan bulan-bulan lainnya.\n",
        "\n",
        "Sebaliknya, pada November-Februari, jumlah penyewaan cenderung lebih rendah."
      ],
      "metadata": {
        "id": "zOK7GxiV8vfD"
      }
    },
    {
      "cell_type": "markdown",
      "source": [
        "### Pertanyaan 5:\n"
      ],
      "metadata": {
        "id": "nvYQWxgJ6012"
      }
    },
    {
      "cell_type": "markdown",
      "metadata": {
        "id": "AHIcEuks61L1"
      },
      "source": [
        "5. Bagaimana pengaruh suhu udara, kecepatan angin dan kelembaban terhadap keputusan pengguna untuk menyewa sepeda?"
      ]
    },
    {
      "cell_type": "code",
      "source": [
        "# Hitung korelasi antara variabel-variabel yang terkait\n",
        "correlation_matrix = day_df[['temp', 'windspeed', 'hum', 'cnt']].corr()\n",
        "\n",
        "# Buat heatmap korelasi\n",
        "plt.figure(figsize=(8, 6))\n",
        "sns.heatmap(correlation_matrix, annot=True, cmap='coolwarm', fmt=\".2f\")\n",
        "plt.title('Korelasi antara Suhu, Kecepatan Angin, Kelembapan, dan Jumlah Penyewaan')\n",
        "plt.show()"
      ],
      "metadata": {
        "id": "oXQZKo1s-3JE"
      },
      "execution_count": null,
      "outputs": []
    },
    {
      "cell_type": "markdown",
      "source": [
        "Suhu (temp) memiliki korelasi positif yang cukup kuat dengan jumlah penyewaan (cnt). Artinya, ketika suhu udara meningkat, jumlah penyewaan sepeda juga cenderung meningkat.\n",
        "\n",
        "Kecepatan angin (windspeed) memiliki korelasi negatif yang lemah dengan jumlah penyewaan (cnt). Artinya, ketika kecepatan angin meningkat, jumlah penyewaan sepeda cenderung sedikit menurun. Namun, korelasi ini relatif lemah, sehingga pengaruh kecepatan angin terhadap keputusan sewa sepeda tidak terlalu signifikan.\n",
        "\n",
        "Kelembapan (hum) memiliki korelasi negatif yang lemah dengan jumlah penyewaan (cnt). Artinya, ketika kelembapan udara meningkat, jumlah penyewaan sepeda cenderung sedikit menurun. Sama seperti kecepatan angin, korelasi ini juga relatif lemah, sehingga pengaruh kelembapan terhadap keputusan sewa sepeda tidak terlalu signifikan."
      ],
      "metadata": {
        "id": "6XKgfNbW_5rU"
      }
    },
    {
      "cell_type": "markdown",
      "source": [
        "## Analisis Lanjutan"
      ],
      "metadata": {
        "id": "9y4VUsmcYNZ5"
      }
    },
    {
      "cell_type": "markdown",
      "source": [
        "###Analisis Clustering"
      ],
      "metadata": {
        "id": "uYrjKkUnToHq"
      }
    },
    {
      "cell_type": "code",
      "source": [
        "# mengelompokkan data berdasarkan 'weather' dan menghitung nilai unik serta statistik untuk kolom 'count'\n",
        "weather_analysis = hour_df.groupby('weathersit').agg({\n",
        "    'cnt': ['nunique', 'min', 'max', 'mean', 'median', 'std']\n",
        "})\n",
        "\n",
        "weather_analysis"
      ],
      "metadata": {
        "id": "0cTsgPAoZl3I"
      },
      "execution_count": null,
      "outputs": []
    },
    {
      "cell_type": "markdown",
      "source": [
        "Dari tabel di atas, kita dapat melihat statistik 'cnt' (jumlah penyewaan sepeda) untuk setiap kondisi cuaca.\n",
        "Misalnya, pada kondisi cuaca 'Clear', jumlah penyewaan memiliki rata-rata tertinggi, menunjukkan bahwa cuaca cerah berkorelasi dengan peningkatan minat penyewaan sepeda. Sebaliknya, pada kondisi cuaca 'Heavy Rain/Snow', jumlah penyewaan memiliki rata-rata terendah, menunjukkan bahwa cuaca buruk mengurangi minat penyewaan."
      ],
      "metadata": {
        "id": "hZgJnlLOZnAl"
      }
    },
    {
      "cell_type": "markdown",
      "metadata": {
        "id": "_WeHlCeX8DC2"
      },
      "source": [
        "## Conclusion"
      ]
    },
    {
      "cell_type": "markdown",
      "source": [
        "Berdasarkan analisis yang telah dilakukan pada dataset Bike Sharing, dapat disimpulkan bahwa beberapa faktor berpengaruh terhadap pola penggunaan sepeda.\n",
        "\n",
        "**Pola Penggunaan Sepeda:**\n",
        "\n",
        "* **Hari Kerja vs Akhir Pekan:** Penggunaan sepeda lebih tinggi pada hari kerja dibandingkan dengan akhir pekan dan hari libur. Hal ini menunjukkan bahwa sebagian besar pengguna sepeda adalah pekerja atau pelajar yang menggunakan sepeda untuk keperluan komuter.\n",
        "* **Pengguna Terdaftar vs Kasual:** Sebagian besar pengguna sepeda adalah pengguna terdaftar, yang menunjukkan bahwa program berlangganan sepeda telah sukses menarik minat pengguna.\n",
        "* **Musim:** Terdapat tren musiman yang jelas, di mana jumlah penyewaan sepeda lebih tinggi pada musim panas dan gugur, serta lebih rendah pada musim dingin dan semi. Hal ini kemungkinan dipengaruhi oleh kondisi cuaca dan suhu yang lebih nyaman pada musim panas dan gugur.\n",
        "* **Kondisi Cuaca:** Cuaca memiliki pengaruh yang signifikan terhadap penggunaan sepeda. Jumlah penyewaan cenderung lebih tinggi pada cuaca cerah dan lebih rendah pada cuaca buruk seperti hujan lebat atau salju.\n",
        "\n",
        "**Faktor Pengaruh:**\n",
        "\n",
        "* **Suhu:** Suhu udara memiliki korelasi positif yang kuat terhadap jumlah penyewaan sepeda. Ketika suhu naik, minat untuk menggunakan sepeda juga meningkat.\n",
        "* **Kecepatan Angin dan Kelembapan:** Kecepatan angin dan kelembapan memiliki korelasi negatif lemah terhadap jumlah penyewaan. Namun, pengaruhnya tidak terlalu signifikan.\n",
        "\n",
        "**Analisis Lanjutan:**\n",
        "\n",
        "* **Clustering berdasarkan Cuaca:** Analisis clustering menunjukkan bahwa cuaca cerah memiliki rata-rata jumlah penyewaan tertinggi, sedangkan cuaca buruk memiliki rata-rata terendah.\n"
      ],
      "metadata": {
        "id": "RFAAT6tZaGKs"
      }
    },
    {
      "cell_type": "code",
      "source": [
        "day_df.sample(20)"
      ],
      "metadata": {
        "id": "zqhDPacvhplC"
      },
      "execution_count": null,
      "outputs": []
    },
    {
      "cell_type": "code",
      "source": [
        "# prompt: buat dashboard beserta analisis pertanyaan 1 sampai 5 dan analisis lajutan dengan streamlit, ada pilihan side barnya\n",
        "\n",
        "import streamlit as st\n",
        "import pandas as pd\n",
        "import matplotlib.pyplot as plt\n",
        "import seaborn as sns\n",
        "\n",
        "# Load your data (replace with your actual data loading)\n",
        "day_df = pd.read_csv('/content/day.csv')\n",
        "hour_df = pd.read_csv('/content/hour.csv')\n",
        "\n",
        "# Sidebar with options\n",
        "st.sidebar.title(\"Bike Sharing Dashboard\")\n",
        "selected_analysis = st.sidebar.selectbox(\"Pilih Analisis\", [\"Pertanyaan 1\", \"Pertanyaan 2\", \"Pertanyaan 3\", \"Pertanyaan 4\", \"Pertanyaan 5\", \"Analisis Lanjutan\"])\n",
        "\n",
        "# Main content area\n",
        "st.title(\"Bike Sharing Dashboard\")\n",
        "\n",
        "if selected_analysis == \"Pertanyaan 1\":\n",
        "    st.header(\"Pola Penggunaan Sepeda pada Hari Kerja vs Akhir Pekan\")\n",
        "\n",
        "    # Visualisasi dengan Barplot (copy from your existing code)\n",
        "    st.subheader(\"Jumlah Peminjaman Sepeda Berdasarkan Hari Kerja\")\n",
        "    fig, ax = plt.subplots(figsize=(10, 6))\n",
        "    sns.barplot(x='workingday', y='cnt', data=day_df, errorbar=None, ax=ax)\n",
        "    plt.xlabel('Working Day')\n",
        "    plt.ylabel('Count')\n",
        "    plt.title('Jumlah Peminjaman Sepeda Berdasarkan Hari Kerja')\n",
        "    st.pyplot(fig)\n",
        "\n",
        "    st.subheader(\"Jumlah Peminjaman Sepeda Berdasarkan Hari Libur\")\n",
        "    fig, ax = plt.subplots(figsize=(10, 6))\n",
        "    sns.barplot(x='holiday', y='cnt', data=day_df, errorbar=None, ax=ax)\n",
        "    plt.xlabel('Holiday')\n",
        "    plt.ylabel('Count')\n",
        "    plt.title('Jumlah Peminjaman Sepeda Berdasarkan Hari Libur')\n",
        "    st.pyplot(fig)\n",
        "\n",
        "    st.write(\"**Kesimpulan:**\")\n",
        "    st.write(\"- Jumlah pengguna sepeda pada hari kerja lebih banyak daripada hari weekend.\")\n",
        "    st.write(\"- Jumlah pengguna sepeda pada hari libur nasional lebih sedikit daripada hari biasa.\")\n",
        "\n",
        "\n",
        "elif selected_analysis == \"Pertanyaan 2\":\n",
        "    st.header(\"Perbedaan Signifikan dalam Jumlah Penyewaan Sepeda (Casual vs Registered)\")\n",
        "\n",
        "    # Visualisasi dengan Pie Chart (copy from your existing code)\n",
        "    total_users = hour_df['casual'].sum() + hour_df['registered'].sum()\n",
        "    casual_percentage = (hour_df['casual'].sum() / total_users) * 100\n",
        "    registered_percentage = (hour_df['registered'].sum() / total_users) * 100\n",
        "\n",
        "    labels = ['Casual', 'Registered']\n",
        "    sizes = [casual_percentage, registered_percentage]\n",
        "    colors = ['lightcoral', 'lightskyblue']\n",
        "    explode = (0.1, 0)\n",
        "\n",
        "    fig, ax = plt.subplots(figsize=(6, 6))\n",
        "    plt.pie(sizes, explode=explode, labels=labels, colors=colors, autopct='%1.1f%%', shadow=True, startangle=140)\n",
        "    plt.title('Persentase Penggunaan Sepeda Berdasarkan Tipe Pengguna')\n",
        "    plt.axis('equal')\n",
        "    st.pyplot(fig)\n",
        "\n",
        "    st.write(\"**Kesimpulan:**\")\n",
        "    st.write(\"- Pengguna terdaftar jauh lebih banyak daripada pengguna kasual.\")\n",
        "    st.write(\"- Ini menunjukkan bahwa program penyewaan sepeda telah berhasil menarik minat pengguna untuk berlangganan secara reguler.\")\n",
        "\n",
        "\n",
        "elif selected_analysis == \"Pertanyaan 3\":\n",
        "    st.header(\"Pengaruh Cuaca Ekstrem terhadap Jumlah Penyewaan Sepeda\")\n",
        "\n",
        "    # Visualisasi dengan Barplot (copy from your existing code)\n",
        "    fig, ax = plt.subplots(figsize=(10, 6))\n",
        "    sns.barplot(x='weathersit', y='cnt', hue='weathersit', data=hour_df, estimator=sum, errorbar=None, palette='Set2', ax=ax)\n",
        "    plt.xlabel('Kondisi Cuaca')\n",
        "    plt.ylabel('Total Penggunaan Sepeda')\n",
        "    plt.title('Total Penggunaan Sepeda Berdasarkan Kondisi Cuaca')\n",
        "    st.pyplot(fig)\n",
        "\n",
        "    st.write(\"**Kesimpulan:**\")\n",
        "    st.write(\"- Jumlah total penggunaan sepeda paling tinggi pada cuaca cerah.\")\n",
        "    st.write(\"- Jumlah total penggunaan sepeda paling rendah pada cuaca hujan lebat/salju.\")\n",
        "    st.write(\"- Ini menunjukkan bahwa cuaca memiliki pengaruh yang signifikan terhadap minat masyarakat untuk menggunakan sepeda.\")\n",
        "\n",
        "\n",
        "elif selected_analysis == \"Pertanyaan 4\":\n",
        "    st.header(\"Tren Musiman Penggunaan Sepeda Sepanjang Tahun\")\n",
        "\n",
        "    # Visualisasi dengan Lineplot (copy from your existing code)\n",
        "    day_df['year_month'] = day_df['dteday'].dt.strftime('%Y-%m')\n",
        "    monthly_trend = day_df.groupby('year_month')['cnt'].sum()\n",
        "\n",
        "    fig, ax = plt.subplots(figsize=(12, 6))\n",
        "    plt.plot(monthly_trend.index, monthly_trend.values)\n",
        "    plt.xlabel('Bulan dan Tahun')\n",
        "    plt.ylabel('Jumlah Penyewaan Sepeda')\n",
        "    plt.title('Tren Bulanan Penyewaan Sepeda')\n",
        "    plt.xticks(rotation=45)\n",
        "    plt.grid(True)\n",
        "    st.pyplot(fig)\n",
        "\n",
        "    st.write(\"**Kesimpulan:**\")\n",
        "    st.write(\"- Terdapat tren peningkatan jumlah penyewaan sepeda dari tahun 2011 hingga 2012.\")\n",
        "    st.write(\"- Pada beberapa bulan, jumlah penyewaan cenderung lebih tinggi (Mei-Oktober).\")\n",
        "    st.write(\"- Pada bulan-bulan lain (November-Februari), jumlah penyewaan cenderung lebih rendah.\")\n",
        "\n",
        "\n",
        "elif selected_analysis == \"Pertanyaan 5\":\n",
        "    st.header(\"Pengaruh Suhu, Kecepatan Angin, dan Kelembapan terhadap Keputusan Sewa Sepeda\")\n",
        "\n",
        "    # Visualisasi dengan Heatmap (copy from your existing code)\n",
        "    correlation_matrix = day_df[['temp', 'windspeed', 'hum', 'cnt']].corr()\n",
        "\n",
        "    fig, ax = plt.subplots(figsize=(8, 6))\n",
        "    sns.heatmap(correlation_matrix, annot=True, cmap='coolwarm', fmt=\".2f\", ax=ax)\n",
        "    plt.title('Korelasi antara Suhu, Kecepatan Angin, Kelembapan, dan Jumlah Penyewaan')\n",
        "    st.pyplot(fig)\n",
        "\n",
        "    st.write(\"**Kesimpulan:**\")\n",
        "    st.write(\"- Suhu memiliki korelasi positif yang kuat dengan jumlah penyewaan.\")\n",
        "    st.write(\"- Kecepatan angin dan kelembapan memiliki korelasi negatif lemah dengan jumlah penyewaan.\")\n",
        "\n",
        "\n",
        "elif selected_analysis == \"Analisis Lanjutan\":\n",
        "    st.header(\"Analisis Lanjutan\")\n",
        "\n",
        "    # Analisis Clustering (copy from your existing code)\n",
        "    weather_analysis = hour_df.groupby('weathersit').agg({\n",
        "        'cnt': ['nunique', 'min', 'max', 'mean', 'median', 'std']\n",
        "    })\n",
        "    st.write(weather_analysis)\n",
        "\n",
        "    st.write(\"**Kesimpulan:**\")\n",
        "    st.write(\"- Cuaca cerah memiliki rata-rata jumlah penyewaan tertinggi.\")\n",
        "    st.write(\"- Cuaca buruk memiliki rata-rata jumlah penyewaan terendah.\")\n",
        "\n",
        "\n",
        "# You can add more analyses and visualizations based on your needs."
      ],
      "metadata": {
        "id": "UNvkj15bjIOB"
      },
      "execution_count": null,
      "outputs": []
    }
  ],
  "metadata": {
    "kernelspec": {
      "display_name": "Python 3",
      "language": "python",
      "name": "python3"
    },
    "language_info": {
      "name": "python",
      "version": "3.8.0 (tags/v3.8.0:fa919fd, Oct 14 2019, 19:21:23) [MSC v.1916 32 bit (Intel)]"
    },
    "orig_nbformat": 4,
    "vscode": {
      "interpreter": {
        "hash": "972b3bf27e332e87b5379f2791f6ef9dfc79c71018c370b0d7423235e20fe4d7"
      }
    },
    "colab": {
      "provenance": []
    }
  },
  "nbformat": 4,
  "nbformat_minor": 0
}